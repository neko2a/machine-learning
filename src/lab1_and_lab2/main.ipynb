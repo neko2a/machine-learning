{
 "cells": [
  {
   "cell_type": "code",
   "execution_count": 1,
   "metadata": {
    "collapsed": true
   },
   "outputs": [],
   "source": [
    "import random\n",
    "from collections import Counter\n",
    "\n",
    "import numpy as np\n",
    "import pandas as pd\n",
    "from PIL import Image"
   ]
  },
  {
   "cell_type": "markdown",
   "source": [
    "# Блок с различными функциями которые потребуются далее (или нет)."
   ],
   "metadata": {
    "collapsed": false,
    "pycharm": {
     "name": "#%% md\n"
    }
   }
  },
  {
   "cell_type": "markdown",
   "source": [
    "Тут живут функции, которые ответственны за подсчет расстояния между картинками. Картинки бывают трех типов: **RGB, градация серого и чб**."
   ],
   "metadata": {
    "collapsed": false
   }
  },
  {
   "cell_type": "code",
   "execution_count": 2,
   "outputs": [],
   "source": [
    "def distance_for_RGB(pix1, pix2):\n",
    "    pixel_distance = 0\n",
    "\n",
    "    for color_channel in range(3):\n",
    "        pixel_distance += (abs(pix1[color_channel] - pix2[color_channel]) / 3)\n",
    "\n",
    "    return pixel_distance\n",
    "\n",
    "\n",
    "def distance_for_grey(pix1, pix2):\n",
    "    return abs(pix1 - pix2)\n",
    "\n",
    "\n",
    "def distance_for_bw(pix1, pix2):\n",
    "    return int(pix1 != pix2)\n",
    "\n",
    "\n",
    "def distance(img1: Image, img2: Image, images_type='RGB'):\n",
    "    if img2.size != img1.size:\n",
    "        raise RuntimeError(f\"Size must be the same! {img1.size} != {img2.size}\")\n",
    "\n",
    "    distance_function = None\n",
    "    img1 = img1.copy()\n",
    "    img2 = img2.copy()\n",
    "    img1 = img1.convert(images_type)\n",
    "    img2 = img2.convert(images_type)\n",
    "\n",
    "    if images_type == 'RGB':\n",
    "        distance_function = distance_for_RGB\n",
    "    elif images_type == 'L':\n",
    "        distance_function = distance_for_grey\n",
    "    elif images_type == '1':\n",
    "        distance_function = distance_for_bw\n",
    "\n",
    "    width, height = img2.size\n",
    "    img1_pix = img1.load()\n",
    "    img2_pix = img2.load()\n",
    "    total_distance = 0\n",
    "\n",
    "    for x in range(width):\n",
    "        for y in range(height):\n",
    "            if img1_pix[x, y] != img2_pix[x, y]:\n",
    "                total_distance += distance_function(img1_pix[x, y], img2_pix[x, y])\n",
    "\n",
    "    return total_distance"
   ],
   "metadata": {
    "collapsed": false,
    "pycharm": {
     "name": "#%%\n"
    }
   }
  },
  {
   "cell_type": "markdown",
   "source": [
    "(⊙o⊙) Ищем соседей. Ну и считаем норм подобрали или шляпа какая-то."
   ],
   "metadata": {
    "collapsed": false
   }
  },
  {
   "cell_type": "code",
   "execution_count": 3,
   "outputs": [],
   "source": [
    "def k_means(noised_image: Image):\n",
    "    width, height = noised_image.size\n",
    "    min_dist = 255 * 255 * 255 * width * height\n",
    "    nearest_number = 0\n",
    "\n",
    "    for n in range(10):\n",
    "        number_reference = Image.open(f'../../resources/numbers/{width}x{height}/{n}.png')\n",
    "        tmp_dist = distance(number_reference, noised_image)\n",
    "        if min_dist > tmp_dist:\n",
    "            nearest_number = n\n",
    "            min_dist = tmp_dist\n",
    "\n",
    "    return nearest_number\n",
    "\n",
    "\n",
    "def predict(numbers, assumption_func):\n",
    "    data = []\n",
    "    wrong_data = []\n",
    "    success_predicted = 0\n",
    "    is_empty = True\n",
    "\n",
    "    for number, number_values in numbers.items():\n",
    "        wrong_predicted = []\n",
    "        tmp = []\n",
    "\n",
    "        for noise in number_values.values():\n",
    "            wrong_assumption = []\n",
    "\n",
    "            for image in noise:\n",
    "                assumption = assumption_func(image)\n",
    "                if number == assumption:\n",
    "                    success_predicted += 1\n",
    "                else:\n",
    "                    is_empty = False\n",
    "                    wrong_assumption.append(assumption)\n",
    "\n",
    "            wrong_predicted.append(Counter(wrong_assumption))\n",
    "            tmp.append(success_predicted)\n",
    "            success_predicted = 0\n",
    "\n",
    "        data.append(tmp)\n",
    "        wrong_data.append(wrong_predicted)\n",
    "    if is_empty:\n",
    "        wrong_data = []\n",
    "    return data, wrong_data\n",
    "\n",
    "\n",
    "def odin(images_list: list, bound=4, number_of_occurrences=1):\n",
    "    res = []\n",
    "    for number in images_list:\n",
    "        tmp_list = images_list.copy()\n",
    "        tmp_list.remove(number)\n",
    "        tmp_list.sort(key=lambda img: distance(number, img, img.mode))\n",
    "        res.append(tmp_list[:bound])\n",
    "\n",
    "    t = []\n",
    "    for n in res:\n",
    "        for number in n:\n",
    "            t.append(number)\n",
    "\n",
    "    out = 0\n",
    "    for number in images_list:\n",
    "        if t.count(number) <= number_of_occurrences:\n",
    "            out += 1\n",
    "\n",
    "    return out"
   ],
   "metadata": {
    "collapsed": false,
    "pycharm": {
     "name": "#%%\n"
    }
   }
  },
  {
   "cell_type": "markdown",
   "source": [
    "Шумим картинки подходящим шумом.\n",
    "Шумим равномерно, шумим область.\n",
    "Шумим эталоны, чтоб в дальнейшем играть в угадайку."
   ],
   "metadata": {
    "collapsed": false
   }
  },
  {
   "cell_type": "code",
   "execution_count": 4,
   "outputs": [],
   "source": [
    "def RGB_noise(pixel):\n",
    "    res = tuple(np.random.choice(range(256), size=3))\n",
    "    while res == pixel:\n",
    "        res = tuple(np.random.choice(range(256), size=3))\n",
    "    return res\n",
    "\n",
    "\n",
    "def grey_noise(pixel):\n",
    "    res = random.randint(0, 255)\n",
    "    while res == pixel:\n",
    "        res = random.randint(0, 255)\n",
    "    return res\n",
    "\n",
    "\n",
    "def bw_noise(pixel):\n",
    "    if pixel == 0:\n",
    "        return 255\n",
    "    else:\n",
    "        return 0\n",
    "\n",
    "\n",
    "def noise_image(input_image: Image, probability: float):\n",
    "    noise_func = None\n",
    "    if input_image.mode == \"RGB\":\n",
    "        noise_func = RGB_noise\n",
    "    elif input_image.mode == \"L\":\n",
    "        noise_func = grey_noise\n",
    "    elif input_image.mode == \"1\":\n",
    "        noise_func = bw_noise\n",
    "\n",
    "    input_image = input_image.copy()\n",
    "    width, height = input_image.size\n",
    "    pixels = input_image.load()\n",
    "    p = random.uniform(0, probability)\n",
    "\n",
    "    for x in range(width):\n",
    "        for y in range(height):\n",
    "            if random.random() < p:\n",
    "                pixels[x, y] = noise_func(pixels[x, y])\n",
    "\n",
    "    return input_image\n",
    "\n",
    "\n",
    "def noise_image_area(input_image: Image, center: (int, int), radius: int, probability: float):\n",
    "    noise_func = None\n",
    "    if input_image.mode == \"RGB\":\n",
    "        noise_func = RGB_noise\n",
    "    elif input_image.mode == \"L\":\n",
    "        noise_func = grey_noise\n",
    "    elif input_image.mode == \"1\":\n",
    "        noise_func = bw_noise\n",
    "\n",
    "    input_image = input_image.copy()\n",
    "    width, height = input_image.size\n",
    "    pixels = input_image.load()\n",
    "    p = random.uniform(0, probability)\n",
    "    x_start = 0\n",
    "    y_start = 0\n",
    "    x_finish = width\n",
    "    y_finish = height\n",
    "    if center[0] - radius > 0:\n",
    "        x_start = center[0] - radius\n",
    "    if center[1] - radius > 0:\n",
    "        y_start = center[1] - radius\n",
    "    if center[0] + radius < width:\n",
    "        x_finish = center[0] + radius\n",
    "    if center[1] + radius < height:\n",
    "        y_finish = center[1] + radius\n",
    "\n",
    "    for x in range(x_start, x_finish):\n",
    "        for y in range(y_start, y_finish):\n",
    "            if random.random() < p:\n",
    "                pixels[x, y] = noise_func(pixels[x, y])\n",
    "\n",
    "    return input_image\n",
    "\n",
    "\n",
    "def generate_noise_numbers(width, height, noise_func, tries_per_noise, image_type='RGB'):\n",
    "    res = {}\n",
    "\n",
    "    for n in range(10):\n",
    "        number = Image.open(f'../../resources/numbers/{width}x{height}/{n}.png').convert(image_type)\n",
    "        noise_dict = {}\n",
    "\n",
    "        for noise in noise_indexes:\n",
    "            noise_list = []\n",
    "\n",
    "            for i in range(tries_per_noise):\n",
    "                noised_number = noise_func(number, noise)\n",
    "                noise_list.append(noised_number)\n",
    "\n",
    "            noise_dict.update({noise: noise_list})\n",
    "        res.update({n: noise_dict})\n",
    "\n",
    "    return res\n",
    "\n",
    "\n",
    "def generate_noise(mode, size, color, probability, noise_func):\n",
    "    return noise_func(Image.new(mode, size, color), probability)"
   ],
   "metadata": {
    "collapsed": false,
    "pycharm": {
     "name": "#%%\n"
    }
   }
  },
  {
   "cell_type": "markdown",
   "source": [
    "А это просто для вывода уже всего высчтаного. Ну и сравнение ради сравнения."
   ],
   "metadata": {
    "collapsed": false
   }
  },
  {
   "cell_type": "code",
   "execution_count": 5,
   "outputs": [],
   "source": [
    "def draw_assumption(data):\n",
    "    df = pd.DataFrame(data[0])\n",
    "    df.columns = noise_indexes\n",
    "    print(df)\n",
    "    print('-' * 100)\n",
    "\n",
    "    if data[1]:\n",
    "        ejection = pd.DataFrame(data[1])\n",
    "        ejection.columns = noise_indexes\n",
    "        print(ejection)\n",
    "        print(\"=\" * 100)\n",
    "\n",
    "\n",
    "def check_results(*data_list):\n",
    "    equals = True\n",
    "    if len(data_list) < 2:\n",
    "        return\n",
    "    for i in range(1, len(data_list)):\n",
    "        if data_list[0] != data_list[i]:\n",
    "            equals = False\n",
    "    print(\"Equals =\", equals)\n",
    "    draw_assumption(data_list[0])\n",
    "    if not equals:\n",
    "        for i in range(1, len(data_list)):\n",
    "            draw_assumption(data_list[i])"
   ],
   "metadata": {
    "collapsed": false,
    "pycharm": {
     "name": "#%%\n"
    }
   }
  },
  {
   "cell_type": "markdown",
   "source": [
    "# Да будет МЛная магия!"
   ],
   "metadata": {
    "collapsed": false
   }
  },
  {
   "cell_type": "markdown",
   "source": [
    "Какой величины шум."
   ],
   "metadata": {
    "collapsed": false
   }
  },
  {
   "cell_type": "code",
   "execution_count": 6,
   "outputs": [],
   "source": [
    "noise_indexes = list(np.arange(0.3, 0.65, 0.05))"
   ],
   "metadata": {
    "collapsed": false,
    "pycharm": {
     "name": "#%%\n"
    }
   }
  },
  {
   "cell_type": "markdown",
   "source": [
    "Генерируем равномерно зашумленные эталончики. Каждый со своим \"родным\" шумом!"
   ],
   "metadata": {
    "collapsed": false
   }
  },
  {
   "cell_type": "code",
   "execution_count": 7,
   "outputs": [],
   "source": [
    "rgb_numbers = generate_noise_numbers(7, 8, lambda image, noise: noise_image(image, noise), 10, 'RGB')\n",
    "grey_numbers = generate_noise_numbers(7, 8, lambda image, noise: noise_image(image, noise), 10, 'L')\n",
    "bw_numbers = generate_noise_numbers(7, 8, lambda image, noise: noise_image(image, noise), 10, '1')"
   ],
   "metadata": {
    "collapsed": false,
    "pycharm": {
     "name": "#%%\n"
    }
   }
  },
  {
   "cell_type": "markdown",
   "source": [
    "Тут мы уже **зашумленные RGB картинки** отгадываем разными вариантами. Стандартный, конвертим в градацию серого, конвертим в чб."
   ],
   "metadata": {
    "collapsed": false,
    "pycharm": {
     "name": "#%% md\n"
    }
   }
  },
  {
   "cell_type": "code",
   "execution_count": 8,
   "outputs": [
    {
     "name": "stdout",
     "output_type": "stream",
     "text": [
      "Equals = False\n",
      "   0.30  0.35  0.40  0.45  0.50  0.55  0.60\n",
      "0    10    10    10    10    10    10    10\n",
      "1    10    10    10    10    10    10    10\n",
      "2    10    10    10    10    10    10    10\n",
      "3    10    10    10    10    10    10    10\n",
      "4    10    10    10    10    10    10    10\n",
      "5    10    10    10    10    10    10    10\n",
      "6    10    10    10    10    10    10    10\n",
      "7    10    10    10    10    10    10    10\n",
      "8    10    10    10    10    10    10    10\n",
      "9    10    10    10    10    10    10    10\n",
      "----------------------------------------------------------------------------------------------------\n",
      "   0.30  0.35  0.40  0.45  0.50  0.55  0.60\n",
      "0    10    10    10    10    10    10    10\n",
      "1    10    10    10    10    10    10    10\n",
      "2    10    10    10    10    10    10    10\n",
      "3    10    10    10    10    10    10    10\n",
      "4    10    10    10    10    10    10    10\n",
      "5    10    10    10    10    10    10    10\n",
      "6    10    10    10    10    10    10    10\n",
      "7    10    10    10    10    10    10    10\n",
      "8    10    10    10    10    10    10    10\n",
      "9    10    10    10    10    10     9    10\n",
      "----------------------------------------------------------------------------------------------------\n",
      "  0.30 0.35 0.40 0.45 0.50    0.55 0.60\n",
      "0   {}   {}   {}   {}   {}      {}   {}\n",
      "1   {}   {}   {}   {}   {}      {}   {}\n",
      "2   {}   {}   {}   {}   {}      {}   {}\n",
      "3   {}   {}   {}   {}   {}      {}   {}\n",
      "4   {}   {}   {}   {}   {}      {}   {}\n",
      "5   {}   {}   {}   {}   {}      {}   {}\n",
      "6   {}   {}   {}   {}   {}      {}   {}\n",
      "7   {}   {}   {}   {}   {}      {}   {}\n",
      "8   {}   {}   {}   {}   {}      {}   {}\n",
      "9   {}   {}   {}   {}   {}  {3: 1}   {}\n",
      "====================================================================================================\n",
      "   0.30  0.35  0.40  0.45  0.50  0.55  0.60\n",
      "0    10    10    10    10     9    10     7\n",
      "1    10    10    10    10    10    10    10\n",
      "2    10    10    10    10     8    10    10\n",
      "3    10    10    10    10    10     9     9\n",
      "4    10    10    10    10    10    10     9\n",
      "5    10    10    10    10     9    10     9\n",
      "6    10    10    10    10    10    10    10\n",
      "7    10    10    10     9    10    10     9\n",
      "8    10    10    10    10    10    10     9\n",
      "9    10    10    10    10    10    10     9\n",
      "----------------------------------------------------------------------------------------------------\n",
      "  0.30 0.35 0.40    0.45          0.50    0.55          0.60\n",
      "0   {}   {}   {}      {}        {6: 1}      {}  {6: 1, 9: 2}\n",
      "1   {}   {}   {}      {}            {}      {}            {}\n",
      "2   {}   {}   {}      {}  {3: 1, 7: 1}      {}            {}\n",
      "3   {}   {}   {}      {}            {}  {8: 1}        {6: 1}\n",
      "4   {}   {}   {}      {}            {}      {}        {1: 1}\n",
      "5   {}   {}   {}      {}        {3: 1}      {}        {9: 1}\n",
      "6   {}   {}   {}      {}            {}      {}            {}\n",
      "7   {}   {}   {}  {2: 1}            {}      {}        {2: 1}\n",
      "8   {}   {}   {}      {}            {}      {}        {6: 1}\n",
      "9   {}   {}   {}      {}            {}      {}        {6: 1}\n",
      "====================================================================================================\n"
     ]
    }
   ],
   "source": [
    "check_results(predict(rgb_numbers, lambda noised_number: k_means(noised_number)),\n",
    "              predict(rgb_numbers, lambda noised_number: k_means(noised_number.convert('L'))),\n",
    "              predict(rgb_numbers, lambda noised_number: k_means(noised_number.convert('1'))))"
   ],
   "metadata": {
    "collapsed": false,
    "pycharm": {
     "name": "#%%\n"
    }
   }
  },
  {
   "cell_type": "markdown",
   "source": [
    "Тут мы уже **зашумленные картинки в градации серого** отгадываем или стандартно, или конвертим перед этим в чб."
   ],
   "metadata": {
    "collapsed": false
   }
  },
  {
   "cell_type": "code",
   "execution_count": 9,
   "outputs": [
    {
     "name": "stdout",
     "output_type": "stream",
     "text": [
      "Equals = False\n",
      "   0.30  0.35  0.40  0.45  0.50  0.55  0.60\n",
      "0    10    10    10    10    10    10     9\n",
      "1    10    10    10    10    10    10    10\n",
      "2    10    10    10    10    10    10    10\n",
      "3    10    10    10    10    10    10    10\n",
      "4    10    10    10    10    10    10    10\n",
      "5    10    10    10    10    10     9    10\n",
      "6    10    10    10    10    10    10    10\n",
      "7    10    10    10    10    10    10    10\n",
      "8    10    10    10    10    10    10     9\n",
      "9    10    10    10    10    10    10    10\n",
      "----------------------------------------------------------------------------------------------------\n",
      "  0.30 0.35 0.40 0.45 0.50    0.55    0.60\n",
      "0   {}   {}   {}   {}   {}      {}  {9: 1}\n",
      "1   {}   {}   {}   {}   {}      {}      {}\n",
      "2   {}   {}   {}   {}   {}      {}      {}\n",
      "3   {}   {}   {}   {}   {}      {}      {}\n",
      "4   {}   {}   {}   {}   {}      {}      {}\n",
      "5   {}   {}   {}   {}   {}  {3: 1}      {}\n",
      "6   {}   {}   {}   {}   {}      {}      {}\n",
      "7   {}   {}   {}   {}   {}      {}      {}\n",
      "8   {}   {}   {}   {}   {}      {}  {0: 1}\n",
      "9   {}   {}   {}   {}   {}      {}      {}\n",
      "====================================================================================================\n",
      "   0.30  0.35  0.40  0.45  0.50  0.55  0.60\n",
      "0    10    10     9     9     9    10     9\n",
      "1    10    10    10    10    10    10    10\n",
      "2    10    10    10    10    10    10    10\n",
      "3    10    10    10    10     9     8    10\n",
      "4    10    10    10    10    10    10    10\n",
      "5    10    10    10    10     8     9     9\n",
      "6    10    10    10    10    10    10     9\n",
      "7    10    10    10    10     9    10     9\n",
      "8    10     9    10    10     8     9     8\n",
      "9    10    10    10    10    10    10    10\n",
      "----------------------------------------------------------------------------------------------------\n",
      "  0.30    0.35    0.40    0.45          0.50          0.55          0.60\n",
      "0   {}      {}  {6: 1}  {6: 1}        {6: 1}            {}        {9: 1}\n",
      "1   {}      {}      {}      {}            {}            {}            {}\n",
      "2   {}      {}      {}      {}            {}            {}            {}\n",
      "3   {}      {}      {}      {}        {2: 1}  {5: 1, 2: 1}            {}\n",
      "4   {}      {}      {}      {}            {}            {}            {}\n",
      "5   {}      {}      {}      {}        {6: 2}        {3: 1}        {3: 1}\n",
      "6   {}      {}      {}      {}            {}            {}        {4: 1}\n",
      "7   {}      {}      {}      {}        {2: 1}            {}        {4: 1}\n",
      "8   {}  {6: 1}      {}      {}  {3: 1, 2: 1}        {3: 1}  {5: 1, 6: 1}\n",
      "9   {}      {}      {}      {}            {}            {}            {}\n",
      "====================================================================================================\n"
     ]
    }
   ],
   "source": [
    "check_results(predict(grey_numbers, lambda noised_number: k_means(noised_number)),\n",
    "              predict(grey_numbers, lambda noised_number: k_means(noised_number.convert('1'))))"
   ],
   "metadata": {
    "collapsed": false,
    "pycharm": {
     "name": "#%%\n"
    }
   }
  },
  {
   "cell_type": "markdown",
   "source": [
    "Ну тут вариантов особо не осталось. Поэтому картинки зашумлены в чб, отгадываем в чб."
   ],
   "metadata": {
    "collapsed": false
   }
  },
  {
   "cell_type": "code",
   "execution_count": 10,
   "outputs": [
    {
     "name": "stdout",
     "output_type": "stream",
     "text": [
      "   0.30  0.35  0.40  0.45  0.50  0.55  0.60\n",
      "0     7     9     7     9     8     8     5\n",
      "1    10    10     9     9     7     6     6\n",
      "2     9     8    10     9     5     7     6\n",
      "3     8     7    10     4     5     7     4\n",
      "4    10     8     7     9     4     6     5\n",
      "5    10     9     7     8     9     6     5\n",
      "6    10     9     8     9     3     5     8\n",
      "7    10    10     9     8     9     5     6\n",
      "8     8     8     8     6     7     5     4\n",
      "9     9    10     6     6     9     7     7\n",
      "----------------------------------------------------------------------------------------------------\n",
      "           0.30                0.35                0.40  \\\n",
      "0  {6: 2, 9: 1}              {6: 1}        {6: 2, 7: 1}   \n",
      "1            {}                  {}              {7: 1}   \n",
      "2        {7: 1}              {7: 2}                  {}   \n",
      "3  {2: 1, 5: 1}  {1: 1, 7: 1, 2: 1}                  {}   \n",
      "4            {}        {8: 1, 9: 1}  {7: 1, 3: 1, 1: 1}   \n",
      "5            {}              {1: 1}        {6: 2, 1: 1}   \n",
      "6            {}              {0: 1}        {5: 1, 4: 1}   \n",
      "7            {}                  {}              {6: 1}   \n",
      "8  {1: 1, 5: 1}              {6: 2}        {6: 1, 2: 1}   \n",
      "9        {0: 1}                  {}  {2: 1, 7: 2, 3: 1}   \n",
      "\n",
      "                       0.45                            0.50  \\\n",
      "0                    {5: 1}                    {2: 1, 8: 1}   \n",
      "1                    {7: 1}              {8: 1, 3: 1, 7: 1}   \n",
      "2                    {0: 1}        {7: 2, 1: 1, 4: 1, 3: 1}   \n",
      "3  {9: 2, 4: 1, 2: 1, 5: 2}        {2: 2, 7: 1, 6: 1, 5: 1}   \n",
      "4                    {8: 1}        {2: 1, 1: 2, 5: 2, 3: 1}   \n",
      "5              {6: 1, 8: 1}                          {6: 1}   \n",
      "6                    {9: 1}  {1: 1, 4: 1, 0: 2, 5: 2, 3: 1}   \n",
      "7              {6: 1, 9: 1}                          {5: 1}   \n",
      "8        {4: 1, 6: 2, 0: 1}                    {6: 1, 3: 2}   \n",
      "9        {8: 2, 2: 1, 0: 1}                          {6: 1}   \n",
      "\n",
      "                             0.55                            0.60  \n",
      "0                    {4: 1, 6: 1}        {7: 1, 6: 2, 1: 1, 2: 1}  \n",
      "1                    {9: 2, 4: 2}              {7: 2, 6: 1, 2: 1}  \n",
      "2                    {1: 2, 4: 1}        {4: 1, 3: 1, 6: 1, 9: 1}  \n",
      "3              {1: 1, 7: 1, 9: 1}  {1: 1, 8: 1, 5: 2, 0: 1, 7: 1}  \n",
      "4        {7: 1, 1: 1, 9: 1, 0: 1}              {7: 2, 1: 1, 6: 2}  \n",
      "5        {9: 1, 1: 1, 8: 1, 6: 1}              {4: 3, 6: 1, 3: 1}  \n",
      "6  {1: 1, 2: 1, 3: 1, 5: 1, 9: 1}                    {4: 1, 2: 1}  \n",
      "7  {4: 1, 2: 1, 1: 1, 5: 1, 3: 1}        {6: 1, 4: 1, 1: 1, 0: 1}  \n",
      "8              {2: 2, 9: 1, 4: 2}  {2: 2, 6: 1, 0: 1, 7: 1, 1: 1}  \n",
      "9                    {4: 2, 0: 1}              {7: 1, 4: 1, 1: 1}  \n",
      "====================================================================================================\n"
     ]
    }
   ],
   "source": [
    "draw_assumption(predict(bw_numbers, lambda noised_number: k_means(noised_number)))"
   ],
   "metadata": {
    "collapsed": false,
    "pycharm": {
     "name": "#%%\n"
    }
   }
  },
  {
   "cell_type": "markdown",
   "source": [
    "А тут уже генерируем картинки с шумом в какой-то области. Центр выбираем случайно. Радиусов несколько, чтобы посмотреть как тут с устойчивостью."
   ],
   "metadata": {
    "collapsed": false
   }
  },
  {
   "cell_type": "code",
   "execution_count": 11,
   "outputs": [
    {
     "name": "stdout",
     "output_type": "stream",
     "text": [
      "5 8 [3, 4, 5]\n"
     ]
    }
   ],
   "source": [
    "x_rand = random.randint(0, 7)\n",
    "y_rand = random.randint(0, 8)\n",
    "radius_list = list(np.arange(3, 6, 1))\n",
    "print(x_rand, y_rand, radius_list)\n",
    "\n",
    "rgb_numbers_area = []\n",
    "bw_numbers_area = []\n",
    "grey_numbers_area = []\n",
    "for radius in radius_list:\n",
    "    rgb_numbers_area.append(\n",
    "        generate_noise_numbers(7, 8, lambda image, noise: noise_image_area(image, (x_rand, y_rand), radius, noise), 10,\n",
    "                               'RGB'))\n",
    "    bw_numbers_area.append(\n",
    "        generate_noise_numbers(7, 8, lambda image, noise: noise_image_area(image, (x_rand, y_rand), radius, noise), 10,\n",
    "                               '1'))\n",
    "    grey_numbers_area.append(\n",
    "        generate_noise_numbers(7, 8, lambda image, noise: noise_image_area(image, (x_rand, y_rand), radius, noise), 10,\n",
    "                               'L'))"
   ],
   "metadata": {
    "collapsed": false,
    "pycharm": {
     "name": "#%%\n"
    }
   }
  },
  {
   "cell_type": "markdown",
   "source": [
    "Тут мы уже **зашумленные RGB картинки** отгадываем разными вариантами. Стандартный, конвертим в градацию серого, конвертим в чб."
   ],
   "metadata": {
    "collapsed": false
   }
  },
  {
   "cell_type": "code",
   "execution_count": 12,
   "outputs": [
    {
     "name": "stdout",
     "output_type": "stream",
     "text": [
      "Equals = True\n",
      "   0.30  0.35  0.40  0.45  0.50  0.55  0.60\n",
      "0    10    10    10    10    10    10    10\n",
      "1    10    10    10    10    10    10    10\n",
      "2    10    10    10    10    10    10    10\n",
      "3    10    10    10    10    10    10    10\n",
      "4    10    10    10    10    10    10    10\n",
      "5    10    10    10    10    10    10    10\n",
      "6    10    10    10    10    10    10    10\n",
      "7    10    10    10    10    10    10    10\n",
      "8    10    10    10    10    10    10    10\n",
      "9    10    10    10    10    10    10    10\n",
      "----------------------------------------------------------------------------------------------------\n",
      "Equals = False\n",
      "   0.30  0.35  0.40  0.45  0.50  0.55  0.60\n",
      "0    10    10    10    10    10    10    10\n",
      "1    10    10    10    10    10    10    10\n",
      "2    10    10    10    10    10    10    10\n",
      "3    10    10    10    10    10    10    10\n",
      "4    10    10    10    10    10    10    10\n",
      "5    10    10    10    10    10    10    10\n",
      "6    10    10    10    10    10    10    10\n",
      "7    10    10    10    10    10    10    10\n",
      "8    10    10    10    10    10    10    10\n",
      "9    10    10    10    10    10    10    10\n",
      "----------------------------------------------------------------------------------------------------\n",
      "   0.30  0.35  0.40  0.45  0.50  0.55  0.60\n",
      "0    10    10    10    10    10    10    10\n",
      "1    10    10    10    10    10    10    10\n",
      "2    10    10    10    10    10    10    10\n",
      "3    10    10    10    10    10    10    10\n",
      "4    10    10    10    10    10    10    10\n",
      "5    10    10    10    10    10    10    10\n",
      "6    10    10    10    10    10    10    10\n",
      "7    10    10    10    10    10    10    10\n",
      "8    10    10    10    10    10    10    10\n",
      "9    10    10    10    10    10    10    10\n",
      "----------------------------------------------------------------------------------------------------\n",
      "   0.30  0.35  0.40  0.45  0.50  0.55  0.60\n",
      "0    10    10    10    10     9    10     8\n",
      "1    10    10    10    10    10    10    10\n",
      "2    10    10    10    10    10    10     9\n",
      "3    10    10    10    10    10    10    10\n",
      "4    10    10    10    10    10    10    10\n",
      "5    10    10    10    10    10    10    10\n",
      "6    10    10    10    10    10    10    10\n",
      "7    10    10    10    10    10    10    10\n",
      "8    10    10    10    10    10    10    10\n",
      "9    10    10    10    10    10    10    10\n",
      "----------------------------------------------------------------------------------------------------\n",
      "  0.30 0.35 0.40 0.45    0.50 0.55    0.60\n",
      "0   {}   {}   {}   {}  {9: 1}   {}  {9: 2}\n",
      "1   {}   {}   {}   {}      {}   {}      {}\n",
      "2   {}   {}   {}   {}      {}   {}  {7: 1}\n",
      "3   {}   {}   {}   {}      {}   {}      {}\n",
      "4   {}   {}   {}   {}      {}   {}      {}\n",
      "5   {}   {}   {}   {}      {}   {}      {}\n",
      "6   {}   {}   {}   {}      {}   {}      {}\n",
      "7   {}   {}   {}   {}      {}   {}      {}\n",
      "8   {}   {}   {}   {}      {}   {}      {}\n",
      "9   {}   {}   {}   {}      {}   {}      {}\n",
      "====================================================================================================\n",
      "Equals = False\n",
      "   0.30  0.35  0.40  0.45  0.50  0.55  0.60\n",
      "0    10    10    10    10    10    10    10\n",
      "1    10    10    10    10    10    10    10\n",
      "2    10    10    10    10    10    10    10\n",
      "3    10    10    10    10    10    10    10\n",
      "4    10    10    10    10    10    10    10\n",
      "5    10    10    10    10    10    10    10\n",
      "6    10    10    10    10    10    10    10\n",
      "7    10    10    10    10    10    10    10\n",
      "8    10    10    10    10    10    10    10\n",
      "9    10    10    10    10    10    10    10\n",
      "----------------------------------------------------------------------------------------------------\n",
      "   0.30  0.35  0.40  0.45  0.50  0.55  0.60\n",
      "0    10    10    10    10    10    10    10\n",
      "1    10    10    10    10    10    10    10\n",
      "2    10    10    10    10    10    10    10\n",
      "3    10    10    10    10    10    10    10\n",
      "4    10    10    10    10    10    10    10\n",
      "5    10    10    10    10    10    10    10\n",
      "6    10    10    10    10    10    10    10\n",
      "7    10    10    10    10    10    10    10\n",
      "8    10    10    10    10    10    10    10\n",
      "9    10    10    10    10    10    10    10\n",
      "----------------------------------------------------------------------------------------------------\n",
      "   0.30  0.35  0.40  0.45  0.50  0.55  0.60\n",
      "0    10    10     8    10    10    10     9\n",
      "1    10    10    10    10    10    10    10\n",
      "2    10    10    10    10    10    10    10\n",
      "3    10    10    10    10    10    10    10\n",
      "4    10    10    10    10    10    10    10\n",
      "5    10    10    10    10    10    10    10\n",
      "6    10    10    10    10    10    10    10\n",
      "7    10    10    10    10    10    10    10\n",
      "8    10    10     9    10    10    10    10\n",
      "9    10    10    10    10    10    10    10\n",
      "----------------------------------------------------------------------------------------------------\n",
      "  0.30 0.35          0.40 0.45 0.50 0.55    0.60\n",
      "0   {}   {}  {6: 1, 5: 1}   {}   {}   {}  {9: 1}\n",
      "1   {}   {}            {}   {}   {}   {}      {}\n",
      "2   {}   {}            {}   {}   {}   {}      {}\n",
      "3   {}   {}            {}   {}   {}   {}      {}\n",
      "4   {}   {}            {}   {}   {}   {}      {}\n",
      "5   {}   {}            {}   {}   {}   {}      {}\n",
      "6   {}   {}            {}   {}   {}   {}      {}\n",
      "7   {}   {}            {}   {}   {}   {}      {}\n",
      "8   {}   {}        {5: 1}   {}   {}   {}      {}\n",
      "9   {}   {}            {}   {}   {}   {}      {}\n",
      "====================================================================================================\n"
     ]
    }
   ],
   "source": [
    "for number in rgb_numbers_area:\n",
    "    check_results(predict(number, lambda noised_number: k_means(noised_number)),\n",
    "                  predict(number, lambda noised_number: k_means(noised_number.convert('L'))),\n",
    "                  predict(number, lambda noised_number: k_means(noised_number.convert('1'))))"
   ],
   "metadata": {
    "collapsed": false,
    "pycharm": {
     "name": "#%%\n"
    }
   }
  },
  {
   "cell_type": "markdown",
   "source": [
    "Тут мы уже **зашумленные картинки в градации серого** отгадываем или стандартно, или конвертим перед этим в чб."
   ],
   "metadata": {
    "collapsed": false
   }
  },
  {
   "cell_type": "code",
   "execution_count": 13,
   "outputs": [
    {
     "name": "stdout",
     "output_type": "stream",
     "text": [
      "Equals = True\n",
      "   0.30  0.35  0.40  0.45  0.50  0.55  0.60\n",
      "0    10    10    10    10    10    10    10\n",
      "1    10    10    10    10    10    10    10\n",
      "2    10    10    10    10    10    10    10\n",
      "3    10    10    10    10    10    10    10\n",
      "4    10    10    10    10    10    10    10\n",
      "5    10    10    10    10    10    10    10\n",
      "6    10    10    10    10    10    10    10\n",
      "7    10    10    10    10    10    10    10\n",
      "8    10    10    10    10    10    10    10\n",
      "9    10    10    10    10    10    10    10\n",
      "----------------------------------------------------------------------------------------------------\n",
      "Equals = False\n",
      "   0.30  0.35  0.40  0.45  0.50  0.55  0.60\n",
      "0    10    10    10    10    10    10    10\n",
      "1    10    10    10    10    10    10    10\n",
      "2    10    10    10    10    10    10    10\n",
      "3    10    10    10    10    10    10    10\n",
      "4    10    10    10    10    10    10    10\n",
      "5    10    10    10    10    10    10    10\n",
      "6    10    10    10    10    10    10    10\n",
      "7    10    10    10    10    10    10    10\n",
      "8    10    10    10    10    10    10    10\n",
      "9    10    10    10    10    10    10    10\n",
      "----------------------------------------------------------------------------------------------------\n",
      "   0.30  0.35  0.40  0.45  0.50  0.55  0.60\n",
      "0    10    10     9    10    10    10     9\n",
      "1    10    10    10    10    10    10    10\n",
      "2    10    10    10    10    10    10    10\n",
      "3    10    10    10    10    10    10    10\n",
      "4    10    10    10    10    10    10    10\n",
      "5    10    10    10    10    10    10    10\n",
      "6    10    10    10    10    10    10    10\n",
      "7    10    10    10    10    10    10    10\n",
      "8    10    10    10    10    10    10    10\n",
      "9    10    10    10    10    10    10    10\n",
      "----------------------------------------------------------------------------------------------------\n",
      "  0.30 0.35    0.40 0.45 0.50 0.55    0.60\n",
      "0   {}   {}  {9: 1}   {}   {}   {}  {9: 1}\n",
      "1   {}   {}      {}   {}   {}   {}      {}\n",
      "2   {}   {}      {}   {}   {}   {}      {}\n",
      "3   {}   {}      {}   {}   {}   {}      {}\n",
      "4   {}   {}      {}   {}   {}   {}      {}\n",
      "5   {}   {}      {}   {}   {}   {}      {}\n",
      "6   {}   {}      {}   {}   {}   {}      {}\n",
      "7   {}   {}      {}   {}   {}   {}      {}\n",
      "8   {}   {}      {}   {}   {}   {}      {}\n",
      "9   {}   {}      {}   {}   {}   {}      {}\n",
      "====================================================================================================\n",
      "Equals = False\n",
      "   0.30  0.35  0.40  0.45  0.50  0.55  0.60\n",
      "0    10    10    10    10    10     9    10\n",
      "1    10    10    10    10    10    10    10\n",
      "2    10    10    10    10    10    10    10\n",
      "3    10    10    10    10    10    10    10\n",
      "4    10    10    10    10    10    10    10\n",
      "5    10    10    10    10    10    10    10\n",
      "6    10    10    10    10    10    10    10\n",
      "7    10    10    10    10    10    10    10\n",
      "8    10    10    10    10    10    10    10\n",
      "9    10    10    10    10    10    10    10\n",
      "----------------------------------------------------------------------------------------------------\n",
      "  0.30 0.35 0.40 0.45 0.50    0.55 0.60\n",
      "0   {}   {}   {}   {}   {}  {9: 1}   {}\n",
      "1   {}   {}   {}   {}   {}      {}   {}\n",
      "2   {}   {}   {}   {}   {}      {}   {}\n",
      "3   {}   {}   {}   {}   {}      {}   {}\n",
      "4   {}   {}   {}   {}   {}      {}   {}\n",
      "5   {}   {}   {}   {}   {}      {}   {}\n",
      "6   {}   {}   {}   {}   {}      {}   {}\n",
      "7   {}   {}   {}   {}   {}      {}   {}\n",
      "8   {}   {}   {}   {}   {}      {}   {}\n",
      "9   {}   {}   {}   {}   {}      {}   {}\n",
      "====================================================================================================\n",
      "   0.30  0.35  0.40  0.45  0.50  0.55  0.60\n",
      "0    10    10     8    10    10     8    10\n",
      "1    10    10    10    10    10    10    10\n",
      "2    10    10    10    10    10    10    10\n",
      "3     9    10    10    10    10    10    10\n",
      "4    10    10    10    10    10    10    10\n",
      "5    10    10    10    10    10    10    10\n",
      "6    10    10    10    10    10    10    10\n",
      "7    10    10    10    10    10    10    10\n",
      "8    10    10    10    10    10    10    10\n",
      "9    10    10    10    10    10    10    10\n",
      "----------------------------------------------------------------------------------------------------\n",
      "     0.30 0.35          0.40 0.45 0.50          0.55 0.60\n",
      "0      {}   {}  {8: 1, 9: 1}   {}   {}  {9: 1, 6: 1}   {}\n",
      "1      {}   {}            {}   {}   {}            {}   {}\n",
      "2      {}   {}            {}   {}   {}            {}   {}\n",
      "3  {9: 1}   {}            {}   {}   {}            {}   {}\n",
      "4      {}   {}            {}   {}   {}            {}   {}\n",
      "5      {}   {}            {}   {}   {}            {}   {}\n",
      "6      {}   {}            {}   {}   {}            {}   {}\n",
      "7      {}   {}            {}   {}   {}            {}   {}\n",
      "8      {}   {}            {}   {}   {}            {}   {}\n",
      "9      {}   {}            {}   {}   {}            {}   {}\n",
      "====================================================================================================\n"
     ]
    }
   ],
   "source": [
    "for number in grey_numbers_area:\n",
    "    check_results(predict(number, lambda noised_number: k_means(noised_number)),\n",
    "                  predict(number, lambda noised_number: k_means(noised_number.convert('1'))))"
   ],
   "metadata": {
    "collapsed": false,
    "pycharm": {
     "name": "#%%\n"
    }
   }
  },
  {
   "cell_type": "markdown",
   "source": [
    "Ну тут вариантов особо не осталось. Поэтому картинки зашумлены в чб, отгадываем в чб."
   ],
   "metadata": {
    "collapsed": false
   }
  },
  {
   "cell_type": "code",
   "execution_count": 14,
   "outputs": [
    {
     "name": "stdout",
     "output_type": "stream",
     "text": [
      "   0.30  0.35  0.40  0.45  0.50  0.55  0.60\n",
      "0    10    10    10    10    10    10    10\n",
      "1    10    10    10    10    10    10    10\n",
      "2    10    10    10    10    10    10     9\n",
      "3    10    10    10    10    10    10     9\n",
      "4    10    10    10    10    10    10    10\n",
      "5    10    10    10    10    10    10    10\n",
      "6    10    10    10    10    10    10    10\n",
      "7    10    10    10    10    10    10    10\n",
      "8    10    10    10    10    10    10    10\n",
      "9    10    10    10    10    10    10    10\n",
      "----------------------------------------------------------------------------------------------------\n",
      "  0.30 0.35 0.40 0.45 0.50 0.55    0.60\n",
      "0   {}   {}   {}   {}   {}   {}      {}\n",
      "1   {}   {}   {}   {}   {}   {}      {}\n",
      "2   {}   {}   {}   {}   {}   {}  {7: 1}\n",
      "3   {}   {}   {}   {}   {}   {}  {2: 1}\n",
      "4   {}   {}   {}   {}   {}   {}      {}\n",
      "5   {}   {}   {}   {}   {}   {}      {}\n",
      "6   {}   {}   {}   {}   {}   {}      {}\n",
      "7   {}   {}   {}   {}   {}   {}      {}\n",
      "8   {}   {}   {}   {}   {}   {}      {}\n",
      "9   {}   {}   {}   {}   {}   {}      {}\n",
      "====================================================================================================\n",
      "   0.30  0.35  0.40  0.45  0.50  0.55  0.60\n",
      "0    10     9     9     9     8     6     9\n",
      "1    10    10    10    10    10    10    10\n",
      "2    10    10     9     9     7     9     8\n",
      "3    10    10    10    10     9    10    10\n",
      "4    10    10     9    10    10    10     8\n",
      "5    10    10    10    10    10     9     9\n",
      "6     9    10    10    10    10    10    10\n",
      "7    10    10    10    10     9    10    10\n",
      "8    10    10    10    10     7     8     9\n",
      "9    10    10    10     7    10     9     9\n",
      "----------------------------------------------------------------------------------------------------\n",
      "     0.30    0.35    0.40          0.45          0.50          0.55  \\\n",
      "0      {}  {9: 1}  {9: 1}        {9: 1}        {9: 2}        {9: 4}   \n",
      "1      {}      {}      {}            {}            {}            {}   \n",
      "2      {}      {}  {7: 1}        {3: 1}  {3: 2, 7: 1}        {3: 1}   \n",
      "3      {}      {}      {}            {}        {7: 1}            {}   \n",
      "4      {}      {}  {2: 1}            {}            {}            {}   \n",
      "5      {}      {}      {}            {}            {}        {6: 1}   \n",
      "6  {5: 1}      {}      {}            {}            {}            {}   \n",
      "7      {}      {}      {}            {}        {2: 1}            {}   \n",
      "8      {}      {}      {}            {}  {3: 2, 7: 1}  {4: 1, 3: 1}   \n",
      "9      {}      {}      {}  {2: 1, 0: 2}            {}        {0: 1}   \n",
      "\n",
      "           0.60  \n",
      "0        {9: 1}  \n",
      "1            {}  \n",
      "2        {7: 2}  \n",
      "3            {}  \n",
      "4  {3: 1, 2: 1}  \n",
      "5        {6: 1}  \n",
      "6            {}  \n",
      "7            {}  \n",
      "8        {3: 1}  \n",
      "9        {0: 1}  \n",
      "====================================================================================================\n",
      "   0.30  0.35  0.40  0.45  0.50  0.55  0.60\n",
      "0     9    10     9     8     8     7     8\n",
      "1    10    10    10    10    10     7     8\n",
      "2     9    10    10     7     9     9     8\n",
      "3    10     9     9    10     7     8     5\n",
      "4    10    10     9    10     9     6     9\n",
      "5     9    10    10    10     9     8     9\n",
      "6    10    10     8    10    10     7     9\n",
      "7    10     9    10    10     9    10     7\n",
      "8    10    10     8     9    10     9     8\n",
      "9    10    10     9     9     6     8     6\n",
      "----------------------------------------------------------------------------------------------------\n",
      "     0.30    0.35          0.40                0.45                0.50  \\\n",
      "0  {9: 1}      {}        {5: 1}              {9: 2}        {9: 1, 6: 1}   \n",
      "1      {}      {}            {}                  {}                  {}   \n",
      "2  {8: 1}      {}            {}  {3: 1, 7: 1, 8: 1}              {3: 1}   \n",
      "3      {}  {2: 1}        {2: 1}                  {}        {0: 1, 2: 2}   \n",
      "4      {}      {}        {3: 1}                  {}              {6: 1}   \n",
      "5  {6: 1}      {}            {}                  {}              {6: 1}   \n",
      "6      {}      {}  {4: 1, 9: 1}                  {}                  {}   \n",
      "7      {}  {3: 1}            {}                  {}              {2: 1}   \n",
      "8      {}      {}  {4: 1, 3: 1}              {3: 1}                  {}   \n",
      "9      {}      {}        {3: 1}              {2: 1}  {1: 1, 4: 1, 0: 2}   \n",
      "\n",
      "                       0.55                      0.60  \n",
      "0              {8: 2, 9: 1}              {9: 1, 7: 1}  \n",
      "1                    {4: 3}                    {4: 2}  \n",
      "2                    {3: 1}                    {7: 2}  \n",
      "3                    {2: 2}  {4: 1, 2: 2, 8: 1, 9: 1}  \n",
      "4  {3: 1, 1: 1, 6: 1, 9: 1}                    {2: 1}  \n",
      "5              {7: 1, 6: 1}                    {6: 1}  \n",
      "6        {1: 1, 7: 1, 5: 1}                    {5: 1}  \n",
      "7                        {}        {2: 1, 9: 1, 3: 1}  \n",
      "8                    {6: 1}              {7: 1, 9: 1}  \n",
      "9                    {0: 2}              {8: 2, 0: 2}  \n",
      "====================================================================================================\n"
     ]
    }
   ],
   "source": [
    "for number in bw_numbers_area:\n",
    "    draw_assumption(predict(number, lambda noised_number: k_means(noised_number)))"
   ],
   "metadata": {
    "collapsed": false,
    "pycharm": {
     "name": "#%%\n"
    }
   }
  },
  {
   "cell_type": "markdown",
   "source": [
    "Зашумляем простую белую картинку."
   ],
   "metadata": {
    "collapsed": false
   }
  },
  {
   "cell_type": "code",
   "execution_count": 15,
   "outputs": [],
   "source": [
    "rgb_noise_list = []\n",
    "grey_noise_list = []\n",
    "bw_noise_list = []\n",
    "for i in range(10):\n",
    "    for noise in noise_indexes:\n",
    "        rgb_noise_list.append(generate_noise(\"RGB\", (7, 8), 'white', noise,\n",
    "                                             lambda noised_image, probability: noise_image(noised_image, probability)))\n",
    "        grey_noise_list.append(generate_noise(\"L\", (7, 8), 'white', noise,\n",
    "                                              lambda noised_image, probability: noise_image(noised_image, probability)))\n",
    "        bw_noise_list.append(generate_noise(\"1\", (7, 8), 'white', noise,\n",
    "                                            lambda noised_image, probability: noise_image(noised_image, probability)))"
   ],
   "metadata": {
    "collapsed": false,
    "pycharm": {
     "name": "#%%\n"
    }
   }
  },
  {
   "cell_type": "markdown",
   "source": [
    "Сколько посчтаем выбросами"
   ],
   "metadata": {
    "collapsed": false
   }
  },
  {
   "cell_type": "code",
   "execution_count": 16,
   "outputs": [
    {
     "name": "stdout",
     "output_type": "stream",
     "text": [
      "Выбросов определено: 66. Реальных выбросов: 70\n",
      "Выбросов определено: 68. Реальных выбросов: 70\n",
      "Выбросов определено: 67. Реальных выбросов: 70\n"
     ]
    }
   ],
   "source": [
    "print(f'Выбросов определено: {odin(rgb_noise_list, 5, 35)}. Реальных выбросов: {len(rgb_noise_list)}')\n",
    "print(f'Выбросов определено: {odin(grey_noise_list, 5, 35)}. Реальных выбросов: {len(grey_noise_list)}')\n",
    "print(f'Выбросов определено: {odin(bw_noise_list, 5, 35)}. Реальных выбросов: {len(bw_noise_list)}')"
   ],
   "metadata": {
    "collapsed": false,
    "pycharm": {
     "name": "#%%\n"
    }
   }
  },
  {
   "cell_type": "markdown",
   "source": [
    "Сборная солянка из зашумленых эталонов и зашумленых \"пустышек\"."
   ],
   "metadata": {
    "collapsed": false
   }
  },
  {
   "cell_type": "code",
   "source": [
    "mixed_list = []\n",
    "for n in range(10):\n",
    "    number = Image.open(f'../../resources/numbers/{7}x{8}/{n}.png').convert('RGB')\n",
    "    for noise in noise_indexes:\n",
    "        mixed_list.append(noise_image(number, noise))\n",
    "\n",
    "mixed_list += rgb_noise_list\n",
    "print(f'Выбросов определено: {odin(mixed_list, 10, 15)}. '\n",
    "      f'Размер выборки: {len(mixed_list)}. '\n",
    "      f'Реальных выбросов: {len(rgb_noise_list)}')"
   ],
   "metadata": {
    "collapsed": false,
    "pycharm": {
     "name": "#%%\n"
    }
   },
   "execution_count": 17,
   "outputs": [
    {
     "name": "stdout",
     "output_type": "stream",
     "text": [
      "Выбросов определено: 118. Размер выборки: 140. Реальных выбросов: 70\n"
     ]
    }
   ]
  }
 ],
 "metadata": {
  "kernelspec": {
   "display_name": "Python 3",
   "language": "python",
   "name": "python3"
  },
  "language_info": {
   "codemirror_mode": {
    "name": "ipython",
    "version": 2
   },
   "file_extension": ".py",
   "mimetype": "text/x-python",
   "name": "python",
   "nbconvert_exporter": "python",
   "pygments_lexer": "ipython2",
   "version": "2.7.6"
  }
 },
 "nbformat": 4,
 "nbformat_minor": 0
}