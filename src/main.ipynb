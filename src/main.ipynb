{
 "cells": [
  {
   "cell_type": "code",
   "execution_count": 13,
   "outputs": [],
   "source": [
    "import random\n",
    "from collections import Counter\n",
    "\n",
    "import numpy as np\n",
    "import pandas as pd\n",
    "from PIL import Image"
   ],
   "metadata": {
    "collapsed": false,
    "pycharm": {
     "name": "#%%\n"
    }
   }
  },
  {
   "cell_type": "markdown",
   "source": [
    "#### Конвертируем картинку сначала в чб с градацией серого. Потом только в черное и белое.\n",
    "Вариант использовать bw = input_image.convert('1') мне не очень нравится, поэтому оставил так."
   ],
   "metadata": {
    "collapsed": false
   }
  },
  {
   "cell_type": "code",
   "execution_count": 14,
   "metadata": {
    "collapsed": true
   },
   "outputs": [],
   "source": [
    "def black_and_white(input_image: Image, divider=100):\n",
    "    width, height = input_image.size\n",
    "    bw = input_image.convert('L')\n",
    "    pixels = bw.load()\n",
    "    for x in range(width):\n",
    "        for y in range(height):\n",
    "            if pixels[x, y] > divider:\n",
    "                pixels[x, y] = 255\n",
    "            else:\n",
    "                pixels[x, y] = 0\n",
    "    return bw"
   ]
  },
  {
   "cell_type": "markdown",
   "source": [
    "Скейл картинки в 2 раза"
   ],
   "metadata": {
    "collapsed": false
   }
  },
  {
   "cell_type": "code",
   "execution_count": 15,
   "outputs": [],
   "source": [
    "def upscale(input_image: Image):\n",
    "    width, height = input_image.size\n",
    "    s_width = input_image.size[0] * 2 - 1\n",
    "    s_height = input_image.size[1] * 2 - 1\n",
    "\n",
    "    scale_img = Image.new(\"RGB\", (s_width, s_height), 'white')\n",
    "    img_pixels = input_image.load()\n",
    "    scale_img_pixels = scale_img.load()\n",
    "\n",
    "    for x in range(width):\n",
    "        for y in range(height):\n",
    "            scale_img_pixels[x * 2, y * 2] = img_pixels[x, y]\n",
    "\n",
    "    for x in range(1, s_width, 2):\n",
    "        for y in range(1, s_height, 2):\n",
    "            p1 = scale_img_pixels[x - 1, y - 1]\n",
    "            p2 = scale_img_pixels[x - 1, y + 1]\n",
    "            p3 = scale_img_pixels[x + 1, y - 1]\n",
    "            p4 = scale_img_pixels[x + 1, y + 1]\n",
    "            p = []\n",
    "\n",
    "            for i in range(3):\n",
    "                p.append((p1[i] + p2[i] + p3[i] + p4[i]) // 4)\n",
    "\n",
    "            scale_img_pixels[x, y] = tuple(p)\n",
    "\n",
    "    for x in range(0, s_width, 1):\n",
    "        for y in range(0, s_height, 1):\n",
    "            if (x + y) % 2 != 0:\n",
    "                p_near = []\n",
    "                pix_r = 0\n",
    "                pix_g = 0\n",
    "                pix_b = 0\n",
    "\n",
    "                for x_i in range(x - 1, x + 2, 1):\n",
    "                    for y_i in range(y - 1, y + 2, 1):\n",
    "                        if 0 <= x_i < s_width and 0 <= y_i < s_height:\n",
    "                            if abs(x_i + y_i - x - y) == 1:\n",
    "                                p_near.append(scale_img_pixels[x_i, y_i])\n",
    "\n",
    "                for p in p_near:\n",
    "                    pix_r += p[0]\n",
    "                    pix_g += p[1]\n",
    "                    pix_b += p[2]\n",
    "\n",
    "                if len(p_near) > 0:\n",
    "                    scale_img_pixels[x, y] = (pix_r // len(p_near), pix_g // len(p_near), pix_b // len(p_near))\n",
    "                else:\n",
    "                    scale_img_pixels[x, y] = (255, 255, 255)\n",
    "\n",
    "    return scale_img"
   ],
   "metadata": {
    "collapsed": false,
    "pycharm": {
     "name": "#%%\n"
    }
   }
  },
  {
   "cell_type": "markdown",
   "source": [
    "Просто удобно вызывать одну функцию. Данные: норм и косячные"
   ],
   "metadata": {
    "collapsed": false
   }
  },
  {
   "cell_type": "code",
   "execution_count": 16,
   "outputs": [],
   "source": [
    "def draw_assumption(data):\n",
    "    df = pd.DataFrame(data[0])\n",
    "    df.columns = indexes\n",
    "    print(df)\n",
    "\n",
    "    if data[1]:\n",
    "        print('-' * 100)\n",
    "        ejection = pd.DataFrame(data[1])\n",
    "        ejection.columns = indexes\n",
    "        print(ejection)\n",
    "        print(\"=\" * 100)\n",
    "\n",
    "\n",
    "def check_results(*data_list):\n",
    "    equals = True\n",
    "    if len(data_list) < 2:\n",
    "        return\n",
    "    for i in range(1, len(data_list)):\n",
    "        if data_list[0] != data_list[i]:\n",
    "            equals = False\n",
    "    print(\"Equals =\", equals)\n",
    "    draw_assumption(data_list[0])\n",
    "    if not equals:\n",
    "        for i in range(1, len(data_list)):\n",
    "            draw_assumption(data_list[i])"
   ],
   "metadata": {
    "collapsed": false,
    "pycharm": {
     "name": "#%%\n"
    }
   }
  },
  {
   "cell_type": "code",
   "execution_count": 17,
   "outputs": [],
   "source": [
    "def k_means(noised_image: Image):\n",
    "    noised_image = noised_image.convert('RGB')\n",
    "    width, height = noised_image.size\n",
    "    min_dist = 255 * 255 * 255 * width * height\n",
    "    noised_image_pixels = noised_image.load()\n",
    "    nearest_number = 0\n",
    "\n",
    "    for n in range(10):\n",
    "        number = Image.open(f'../resources/numbers/{width}x{height}/{n}.png')\n",
    "        width, height = number.size\n",
    "        number_pixels = number.load()\n",
    "        tmp_dist = 0\n",
    "\n",
    "        for x in range(width):\n",
    "            for y in range(height):\n",
    "                if number_pixels[x, y] != noised_image_pixels[x, y]:\n",
    "                    rgb = 0\n",
    "                    for i in range(3):\n",
    "                        rgb += abs(noised_image_pixels[x, y][i] - number_pixels[x, y][i])\n",
    "                    tmp_dist += (rgb / 3)\n",
    "        if min_dist > tmp_dist:\n",
    "            nearest_number = n\n",
    "            min_dist = tmp_dist\n",
    "\n",
    "    return nearest_number\n",
    "\n",
    "\n",
    "def k_means_ejections(noised_image: Image, max_dist = 4000):\n",
    "    noised_image = noised_image.convert('RGB')\n",
    "    width, height = noised_image.size\n",
    "    min_dist = 255 * 255 * 255 * width * height\n",
    "    noised_image_pixels = noised_image.load()\n",
    "    nearest_number = 0\n",
    "\n",
    "    for n in range(10):\n",
    "        number = Image.open(f'../resources/numbers/{width}x{height}/{n}.png')\n",
    "        width, height = number.size\n",
    "        number_pixels = number.load()\n",
    "        tmp_dist = 0\n",
    "\n",
    "        for x in range(width):\n",
    "            for y in range(height):\n",
    "                if number_pixels[x, y] != noised_image_pixels[x, y]:\n",
    "                    rgb = 0\n",
    "                    for i in range(3):\n",
    "                        rgb += abs(noised_image_pixels[x, y][i] - number_pixels[x, y][i])\n",
    "                    tmp_dist += (rgb / 3)\n",
    "        if min_dist > tmp_dist:\n",
    "            nearest_number = n\n",
    "            min_dist = tmp_dist\n",
    "\n",
    "    if min_dist > max_dist:\n",
    "        return {\"distance\": min_dist, \"nearest_number\": nearest_number}\n",
    "\n",
    "\n",
    "def k_means_scaled(noised_image: Image):\n",
    "    noised_image = noised_image.convert('RGB')\n",
    "    width, height = noised_image.size\n",
    "    min_dist = 255 * 255 * 255 * width * height\n",
    "    noised_image_pixels = noised_image.load()\n",
    "    nearest_number = 0\n",
    "\n",
    "    for n in range(10):\n",
    "        input_number = Image.open(f'../resources/numbers/{7}x{8}/{n}.png')\n",
    "        number = input_number.copy()\n",
    "        while width > number.width and height > number.height:\n",
    "            number = upscale(number)\n",
    "        width, height = number.size\n",
    "        number_pixels = number.load()\n",
    "        tmp_dist = 0\n",
    "\n",
    "        for x in range(width):\n",
    "            for y in range(height):\n",
    "                if number_pixels[x, y] != noised_image_pixels[x, y]:\n",
    "                    rgb = 0\n",
    "                    for i in range(3):\n",
    "                        rgb += abs(noised_image_pixels[x, y][i] - number_pixels[x, y][i])\n",
    "                    tmp_dist += (rgb / 3)\n",
    "        if min_dist > tmp_dist:\n",
    "            nearest_number = n\n",
    "            min_dist = tmp_dist\n",
    "\n",
    "    return nearest_number\n",
    "\n",
    "\n",
    "def k_means_for_bw(noised_image: Image):\n",
    "    noised_image = black_and_white(noised_image)\n",
    "    width, height = noised_image.size\n",
    "    min_dist = width * height\n",
    "    noised_image_pixels = noised_image.load()\n",
    "    nearest_number = 0\n",
    "\n",
    "    for n in range(10):\n",
    "        number = black_and_white(Image.open(f'../resources/numbers/{width}x{height}/{n}.png'))\n",
    "        width, height = number.size\n",
    "        number_pixels = number.load()\n",
    "        tmp_dist = 0\n",
    "\n",
    "        for x in range(width):\n",
    "            for y in range(height):\n",
    "                if number_pixels[x, y] != noised_image_pixels[x, y]:\n",
    "                    tmp_dist += 1\n",
    "\n",
    "        if min_dist > tmp_dist:\n",
    "            nearest_number = n\n",
    "            min_dist = tmp_dist\n",
    "\n",
    "    return nearest_number\n",
    "\n",
    "\n",
    "def k_means_for_grey(noised_image: Image):\n",
    "    noised_image = noised_image.convert('L')\n",
    "    width, height = noised_image.size\n",
    "    min_dist = width * height * 255\n",
    "    noised_image_pixels = noised_image.load()\n",
    "    nearest_number = 0\n",
    "\n",
    "    for n in range(10):\n",
    "        number = black_and_white(Image.open(f'../resources/numbers/{width}x{height}/{n}.png'))\n",
    "        width, height = number.size\n",
    "        number_pixels = number.load()\n",
    "        tmp_dist = 0\n",
    "\n",
    "        for x in range(width):\n",
    "            for y in range(height):\n",
    "                if number_pixels[x, y] != noised_image_pixels[x, y]:\n",
    "                    tmp_dist += abs(noised_image_pixels[x, y] - number_pixels[x, y])\n",
    "\n",
    "        if min_dist > tmp_dist:\n",
    "            nearest_number = n\n",
    "            min_dist = tmp_dist\n",
    "\n",
    "    return nearest_number"
   ],
   "metadata": {
    "collapsed": false,
    "pycharm": {
     "name": "#%%\n"
    }
   }
  },
  {
   "cell_type": "markdown",
   "source": [
    "#### Шумы для цветной картинки"
   ],
   "metadata": {
    "collapsed": false
   }
  },
  {
   "cell_type": "code",
   "execution_count": 18,
   "outputs": [],
   "source": [
    "def noise_image(input_image: Image, probability: float):\n",
    "    if probability > 1 or probability < 0:\n",
    "        probability = random.random()\n",
    "\n",
    "    input_image = input_image.copy()\n",
    "    width, height = input_image.size\n",
    "    pixels = input_image.load()\n",
    "    p = random.uniform(0, probability)\n",
    "    for x in range(width):\n",
    "        for y in range(height):\n",
    "            if random.random() < p:\n",
    "                pixels[x, y] = tuple(np.random.choice(range(256), size=3))\n",
    "\n",
    "    return input_image\n",
    "\n",
    "\n",
    "def noise_area_image(input_image: Image, center: (int, int), radius: int, probability: float):\n",
    "    input_image = input_image.copy()\n",
    "    width, height = input_image.size\n",
    "    pixels = input_image.load()\n",
    "    p = random.uniform(0, probability)\n",
    "\n",
    "    x_start = 0\n",
    "    y_start = 0\n",
    "    x_finish = width\n",
    "    y_finish = height\n",
    "    if center[0] - radius > 0:\n",
    "        x_start = center[0] - radius\n",
    "    if center[1] - radius > 0:\n",
    "        y_start = center[1] - radius\n",
    "    if center[0] + radius < width:\n",
    "        x_finish = center[0] + radius\n",
    "    if center[1] + radius < height:\n",
    "        y_finish = center[1] + radius\n",
    "\n",
    "    for x in range(x_start, x_finish):\n",
    "        for y in range(y_start, y_finish):\n",
    "            if random.random() < p:\n",
    "                pixels[x, y] = tuple(np.random.choice(range(256), size=3))\n",
    "    return input_image\n"
   ],
   "metadata": {
    "collapsed": false,
    "pycharm": {
     "name": "#%%\n"
    }
   }
  },
  {
   "cell_type": "markdown",
   "source": [
    "#### Шумы для чб картинки."
   ],
   "metadata": {
    "collapsed": false
   }
  },
  {
   "cell_type": "code",
   "execution_count": 19,
   "outputs": [],
   "source": [
    "def noise_bw_image(input_image: Image, probability: float):\n",
    "    if probability > 1 or probability < 0:\n",
    "        probability = random.random()\n",
    "\n",
    "    input_image = input_image.copy()\n",
    "    input_image = black_and_white(input_image)\n",
    "    width, height = input_image.size\n",
    "    pixels = input_image.load()\n",
    "    p = random.uniform(0, probability)\n",
    "\n",
    "    for x in range(width):\n",
    "        for y in range(height):\n",
    "            if random.random() < p:\n",
    "                if pixels[x, y] == 0:\n",
    "                    pixels[x, y] = 255\n",
    "                else:\n",
    "                    pixels[x, y] = 0\n",
    "    return input_image\n",
    "\n",
    "\n",
    "def noise_bw_area_image(input_image: Image, center: (int, int), radius: int, probability: float):\n",
    "    input_image = input_image.copy()\n",
    "    width, height = input_image.size\n",
    "    pixels = input_image.load()\n",
    "    p = random.uniform(0, probability)\n",
    "\n",
    "    x_start = 0\n",
    "    y_start = 0\n",
    "    x_finish = width\n",
    "    y_finish = height\n",
    "    if center[0] - radius > 0:\n",
    "        x_start = center[0] - radius\n",
    "    if center[1] - radius > 0:\n",
    "        y_start = center[1] - radius\n",
    "    if center[0] + radius < width:\n",
    "        x_finish = center[0] + radius\n",
    "    if center[1] + radius < height:\n",
    "        y_finish = center[1] + radius\n",
    "\n",
    "    for x in range(x_start, x_finish):\n",
    "        for y in range(y_start, y_finish):\n",
    "            if random.random() < p:\n",
    "                if pixels[x, y] == 0:\n",
    "                    pixels[x, y] = 255\n",
    "                else:\n",
    "                    pixels[x, y] = 0\n",
    "    return input_image\n"
   ],
   "metadata": {
    "collapsed": false,
    "pycharm": {
     "name": "#%%\n"
    }
   }
  },
  {
   "cell_type": "markdown",
   "source": [
    "#### Шумы для картинки с градацией серого"
   ],
   "metadata": {
    "collapsed": false
   }
  },
  {
   "cell_type": "code",
   "execution_count": 20,
   "outputs": [],
   "source": [
    "def noise_grey_image(input_image: Image, probability: float):\n",
    "    if probability > 1 or probability < 0:\n",
    "        probability = random.random()\n",
    "\n",
    "    input_image = input_image.copy()\n",
    "    input_image = input_image.convert(\"L\")\n",
    "    width, height = input_image.size\n",
    "    pixels = input_image.load()\n",
    "    p = random.uniform(0, probability)\n",
    "\n",
    "    for x in range(width):\n",
    "        for y in range(height):\n",
    "            if random.random() < p:\n",
    "                pixels[x, y] = random.randint(0, 255)\n",
    "    return input_image\n",
    "\n",
    "\n",
    "def noise_grey_area_image(input_image: Image, center: (int, int), radius: int, probability: float):\n",
    "    input_image = input_image.copy()\n",
    "    width, height = input_image.size\n",
    "    pixels = input_image.load()\n",
    "    p = random.uniform(0, probability)\n",
    "\n",
    "    x_start = 0\n",
    "    y_start = 0\n",
    "    x_finish = width\n",
    "    y_finish = height\n",
    "    if center[0] - radius > 0:\n",
    "        x_start = center[0] - radius\n",
    "    if center[1] - radius > 0:\n",
    "        y_start = center[1] - radius\n",
    "    if center[0] + radius < width:\n",
    "        x_finish = center[0] + radius\n",
    "    if center[1] + radius < height:\n",
    "        y_finish = center[1] + radius\n",
    "\n",
    "    for x in range(x_start, x_finish):\n",
    "        for y in range(y_start, y_finish):\n",
    "            if random.random() < p:\n",
    "                pixels[x, y] = random.randint(0, 255)\n",
    "    return input_image\n",
    "\n"
   ],
   "metadata": {
    "collapsed": false,
    "pycharm": {
     "name": "#%%\n"
    }
   }
  },
  {
   "cell_type": "code",
   "execution_count": 21,
   "outputs": [],
   "source": [
    "indexes = list(np.arange(0.3, 0.75, 0.05))\n",
    "\n",
    "\n",
    "def generate_noise_numbers(width, height, noise_func, tries_per_noise):\n",
    "    res = []\n",
    "    for n in range(10):\n",
    "        number = Image.open(f'../resources/numbers/{width}x{height}/{n}.png')\n",
    "        tmp = []\n",
    "        for noise in indexes:\n",
    "            noise_list = []\n",
    "            for i in range(tries_per_noise):\n",
    "                noised_number = noise_func(number, noise)\n",
    "                noise_list.append(noised_number)\n",
    "            tmp.append(noise_list)\n",
    "        res.append(tmp)\n",
    "    return res\n",
    "\n",
    "\n",
    "def predict(numbers, assumption_func):\n",
    "    data = []\n",
    "    wrong_data = []\n",
    "    success_predicted = 0\n",
    "    correct_number = 0\n",
    "    is_empty = True\n",
    "\n",
    "    for n in numbers:\n",
    "        wrong_predicted = []\n",
    "        tmp = []\n",
    "        for noise in n:\n",
    "            wrong_assumption = []\n",
    "            for number in noise:\n",
    "                assumption = assumption_func(number)\n",
    "                if correct_number == assumption:\n",
    "                    success_predicted += 1\n",
    "                else:\n",
    "                    is_empty = False\n",
    "                    wrong_assumption.append(assumption)\n",
    "            wrong_predicted.append(Counter(wrong_assumption))\n",
    "            tmp.append(success_predicted)\n",
    "            success_predicted = 0\n",
    "        data.append(tmp)\n",
    "        wrong_data.append(wrong_predicted)\n",
    "        correct_number += 1\n",
    "    if is_empty:\n",
    "        wrong_data = []\n",
    "    return [data, wrong_data]"
   ],
   "metadata": {
    "collapsed": false,
    "pycharm": {
     "name": "#%%\n"
    }
   }
  },
  {
   "cell_type": "markdown",
   "source": [
    "### Предсказываем для чисел размером 7 на 8"
   ],
   "metadata": {
    "collapsed": false
   }
  },
  {
   "cell_type": "code",
   "execution_count": 22,
   "outputs": [],
   "source": [
    "rgb_numbers = generate_noise_numbers(7, 8, lambda image, noise: noise_image(image, noise), 10)\n",
    "bw_numbers = generate_noise_numbers(7, 8, lambda image, noise: noise_bw_image(image, noise), 10)\n",
    "grey_numbers = generate_noise_numbers(7, 8, lambda image, noise: noise_grey_image(image, noise), 10)"
   ],
   "metadata": {
    "collapsed": false,
    "pycharm": {
     "name": "#%%\n"
    }
   }
  },
  {
   "cell_type": "code",
   "execution_count": 23,
   "outputs": [
    {
     "name": "stdout",
     "output_type": "stream",
     "text": [
      "4/900\n",
      "[{'distance': 4538.000000000001, 'nearest_number': 1}, {'distance': 4716.999999999999, 'nearest_number': 6}, {'distance': 4782.333333333333, 'nearest_number': 6}, {'distance': 5330.666666666665, 'nearest_number': 7}]\n"
     ]
    }
   ],
   "source": [
    "res = []\n",
    "for i in rgb_numbers:\n",
    "    for j in i:\n",
    "        for k in j:\n",
    "            # print(k)\n",
    "            r = k_means_ejections(k, 4500)\n",
    "            if r:\n",
    "                res.append(r)\n",
    "print(f'{len(res)}/{len(indexes)*100}')\n",
    "print(res)"
   ],
   "metadata": {
    "collapsed": false,
    "pycharm": {
     "name": "#%%\n"
    }
   }
  },
  {
   "cell_type": "code",
   "execution_count": 24,
   "outputs": [
    {
     "name": "stdout",
     "output_type": "stream",
     "text": [
      "Equals = False\n",
      "   0.30  0.35  0.40  0.45  0.50  0.55  0.60  0.65  0.70\n",
      "0    10    10    10    10    10    10    10    10    10\n",
      "1    10    10    10    10    10    10    10    10    10\n",
      "2    10    10    10    10    10    10    10    10    10\n",
      "3    10    10    10    10    10    10    10    10    10\n",
      "4    10    10    10    10    10    10    10    10    10\n",
      "5    10    10    10    10    10    10    10    10    10\n",
      "6    10    10    10    10    10    10    10    10    10\n",
      "7    10    10    10    10    10    10    10    10    10\n",
      "8    10    10    10    10    10    10    10    10    10\n",
      "9    10    10    10    10    10    10    10    10    10\n",
      "   0.30  0.35  0.40  0.45  0.50  0.55  0.60  0.65  0.70\n",
      "0    10    10    10     9    10    10     9     9     9\n",
      "1    10    10    10    10    10    10    10    10    10\n",
      "2    10    10    10    10    10    10    10    10    10\n",
      "3    10    10    10    10     9     9    10     9     9\n",
      "4    10    10    10    10    10    10    10    10    10\n",
      "5    10    10    10    10    10    10    10    10    10\n",
      "6    10    10    10    10     9    10    10    10     9\n",
      "7    10    10    10    10    10    10    10    10     9\n",
      "8    10    10    10     9    10    10     9    10     9\n",
      "9    10    10    10    10     9    10    10    10    10\n",
      "----------------------------------------------------------------------------------------------------\n",
      "  0.30 0.35 0.40    0.45    0.50    0.55    0.60    0.65    0.70\n",
      "0   {}   {}   {}  {6: 1}      {}      {}  {9: 1}  {9: 1}  {6: 1}\n",
      "1   {}   {}   {}      {}      {}      {}      {}      {}      {}\n",
      "2   {}   {}   {}      {}      {}      {}      {}      {}      {}\n",
      "3   {}   {}   {}      {}  {6: 1}  {8: 1}      {}  {5: 1}  {0: 1}\n",
      "4   {}   {}   {}      {}      {}      {}      {}      {}      {}\n",
      "5   {}   {}   {}      {}      {}      {}      {}      {}      {}\n",
      "6   {}   {}   {}      {}  {5: 1}      {}      {}      {}  {9: 1}\n",
      "7   {}   {}   {}      {}      {}      {}      {}      {}  {2: 1}\n",
      "8   {}   {}   {}  {9: 1}      {}      {}  {3: 1}      {}  {3: 1}\n",
      "9   {}   {}   {}      {}  {0: 1}      {}      {}      {}      {}\n",
      "====================================================================================================\n",
      "   0.30  0.35  0.40  0.45  0.50  0.55  0.60  0.65  0.70\n",
      "0    10    10    10     9    10    10     9     9    10\n",
      "1    10    10    10    10    10    10    10     9    10\n",
      "2    10    10    10    10    10    10    10     9    10\n",
      "3    10    10    10    10     8     9     9     9     9\n",
      "4    10    10    10    10    10    10    10    10    10\n",
      "5    10    10    10    10    10    10    10    10    10\n",
      "6    10    10    10    10    10    10    10    10     8\n",
      "7    10    10    10    10    10    10    10    10     9\n",
      "8    10    10    10     9    10    10     7     8     8\n",
      "9    10     9    10    10     9    10     9     8     9\n",
      "----------------------------------------------------------------------------------------------------\n",
      "  0.30    0.35 0.40    0.45    0.50    0.55                0.60          0.65  \\\n",
      "0   {}      {}   {}  {6: 1}      {}      {}              {9: 1}        {9: 1}   \n",
      "1   {}      {}   {}      {}      {}      {}                  {}        {7: 1}   \n",
      "2   {}      {}   {}      {}      {}      {}                  {}        {1: 1}   \n",
      "3   {}      {}   {}      {}  {0: 2}  {2: 1}              {7: 1}        {5: 1}   \n",
      "4   {}      {}   {}      {}      {}      {}                  {}            {}   \n",
      "5   {}      {}   {}      {}      {}      {}                  {}            {}   \n",
      "6   {}      {}   {}      {}      {}      {}                  {}            {}   \n",
      "7   {}      {}   {}      {}      {}      {}                  {}            {}   \n",
      "8   {}      {}   {}  {9: 1}      {}      {}  {6: 1, 3: 1, 0: 1}  {2: 1, 5: 1}   \n",
      "9   {}  {5: 1}   {}      {}  {0: 1}      {}              {0: 1}        {0: 2}   \n",
      "\n",
      "     0.70  \n",
      "0      {}  \n",
      "1      {}  \n",
      "2      {}  \n",
      "3  {0: 1}  \n",
      "4      {}  \n",
      "5      {}  \n",
      "6  {0: 2}  \n",
      "7  {3: 1}  \n",
      "8  {3: 2}  \n",
      "9  {3: 1}  \n",
      "====================================================================================================\n"
     ]
    }
   ],
   "source": [
    "check_results(predict(rgb_numbers, lambda noised_number: k_means(noised_number)),\n",
    "              predict(rgb_numbers, lambda noised_number: k_means_for_grey(noised_number)),\n",
    "              predict(rgb_numbers, lambda noised_number: k_means_for_bw(noised_number)))"
   ],
   "metadata": {
    "collapsed": false,
    "pycharm": {
     "name": "#%%\n"
    }
   }
  },
  {
   "cell_type": "code",
   "execution_count": 25,
   "outputs": [
    {
     "name": "stdout",
     "output_type": "stream",
     "text": [
      "Equals = False\n",
      "   0.30  0.35  0.40  0.45  0.50  0.55  0.60  0.65  0.70\n",
      "0    10    10    10    10    10    10     9     7    10\n",
      "1    10    10    10    10    10    10    10    10    10\n",
      "2    10    10    10    10    10    10    10     9    10\n",
      "3    10    10    10    10    10     9    10     9     8\n",
      "4    10    10    10    10    10    10    10    10    10\n",
      "5    10    10    10    10    10    10    10    10     9\n",
      "6    10    10    10    10    10    10    10    10     9\n",
      "7    10    10    10    10    10    10    10    10    10\n",
      "8    10    10     9    10    10     9    10    10    10\n",
      "9    10    10    10     9    10    10    10     8     9\n",
      "----------------------------------------------------------------------------------------------------\n",
      "  0.30 0.35    0.40    0.45 0.50    0.55    0.60          0.65    0.70\n",
      "0   {}   {}      {}      {}   {}      {}  {6: 1}  {9: 2, 6: 1}      {}\n",
      "1   {}   {}      {}      {}   {}      {}      {}            {}      {}\n",
      "2   {}   {}      {}      {}   {}      {}      {}        {3: 1}      {}\n",
      "3   {}   {}      {}      {}   {}  {5: 1}      {}        {5: 1}  {5: 2}\n",
      "4   {}   {}      {}      {}   {}      {}      {}            {}      {}\n",
      "5   {}   {}      {}      {}   {}      {}      {}            {}  {6: 1}\n",
      "6   {}   {}      {}      {}   {}      {}      {}            {}  {8: 1}\n",
      "7   {}   {}      {}      {}   {}      {}      {}            {}      {}\n",
      "8   {}   {}  {9: 1}      {}   {}  {9: 1}      {}            {}      {}\n",
      "9   {}   {}      {}  {8: 1}   {}      {}      {}  {0: 1, 8: 1}  {5: 1}\n",
      "====================================================================================================\n",
      "   0.30  0.35  0.40  0.45  0.50  0.55  0.60  0.65  0.70\n",
      "0    10    10    10    10    10    10     9    10    10\n",
      "1    10    10    10    10    10    10    10    10    10\n",
      "2    10    10    10    10    10    10    10     8    10\n",
      "3    10    10     9    10     9    10    10     9     9\n",
      "4    10    10    10    10    10    10    10    10    10\n",
      "5    10    10    10    10    10    10     9    10    10\n",
      "6    10    10    10    10    10    10    10     9     9\n",
      "7    10    10    10     9    10    10    10    10    10\n",
      "8    10    10     8    10    10     9    10     9     9\n",
      "9    10     9    10    10    10    10    10     6     9\n",
      "----------------------------------------------------------------------------------------------------\n",
      "  0.30    0.35          0.40    0.45    0.50    0.55    0.60  \\\n",
      "0   {}      {}            {}      {}      {}      {}  {9: 1}   \n",
      "1   {}      {}            {}      {}      {}      {}      {}   \n",
      "2   {}      {}            {}      {}      {}      {}      {}   \n",
      "3   {}      {}        {2: 1}      {}  {2: 1}      {}      {}   \n",
      "4   {}      {}            {}      {}      {}      {}      {}   \n",
      "5   {}      {}            {}      {}      {}      {}  {4: 1}   \n",
      "6   {}      {}            {}      {}      {}      {}      {}   \n",
      "7   {}      {}            {}  {6: 1}      {}      {}      {}   \n",
      "8   {}      {}  {2: 1, 9: 1}      {}      {}  {9: 1}      {}   \n",
      "9   {}  {3: 1}            {}      {}      {}      {}      {}   \n",
      "\n",
      "                 0.65    0.70  \n",
      "0                  {}      {}  \n",
      "1                  {}      {}  \n",
      "2        {0: 1, 7: 1}      {}  \n",
      "3              {5: 1}  {5: 1}  \n",
      "4                  {}      {}  \n",
      "5                  {}      {}  \n",
      "6              {7: 1}  {0: 1}  \n",
      "7                  {}      {}  \n",
      "8              {0: 1}  {1: 1}  \n",
      "9  {0: 2, 8: 1, 5: 1}  {5: 1}  \n",
      "====================================================================================================\n"
     ]
    }
   ],
   "source": [
    "check_results(predict(grey_numbers, lambda noised_number: k_means_for_grey(noised_number)),\n",
    "              predict(grey_numbers, lambda noised_number: k_means_for_bw(noised_number)))"
   ],
   "metadata": {
    "collapsed": false,
    "pycharm": {
     "name": "#%%\n"
    }
   }
  },
  {
   "cell_type": "code",
   "execution_count": 26,
   "outputs": [
    {
     "name": "stdout",
     "output_type": "stream",
     "text": [
      "   0.30  0.35  0.40  0.45  0.50  0.55  0.60  0.65  0.70\n",
      "0     9     9     8     9     9     5     5     5     3\n",
      "1    10    10     9     8     9     9     7     7     7\n",
      "2    10    10     7     7     8     5     7     5     4\n",
      "3    10     9     9     8     6     6     7     5     6\n",
      "4    10    10    10     9     7    10     6     6     5\n",
      "5    10    10     9     7     6     3     6     7     5\n",
      "6     8    10     7    10     9     5     7     4     5\n",
      "7    10    10     8     7     9     4     6     5     6\n",
      "8    10     9     7     8     4     5     4     9     6\n",
      "9     9     8     7     8    10     8     3     5     6\n",
      "----------------------------------------------------------------------------------------------------\n",
      "     0.30          0.35                0.40                0.45  \\\n",
      "0  {5: 1}        {8: 1}        {9: 1, 8: 1}              {9: 1}   \n",
      "1      {}            {}              {2: 1}        {3: 1, 7: 1}   \n",
      "2      {}            {}        {3: 2, 0: 1}        {1: 2, 5: 1}   \n",
      "3      {}        {2: 1}              {6: 1}        {8: 1, 6: 1}   \n",
      "4      {}            {}                  {}              {2: 1}   \n",
      "5      {}            {}              {6: 1}  {6: 1, 0: 1, 2: 1}   \n",
      "6  {0: 2}            {}  {5: 1, 8: 1, 0: 1}                  {}   \n",
      "7      {}            {}        {5: 1, 0: 1}        {0: 2, 2: 1}   \n",
      "8      {}        {9: 1}  {5: 1, 2: 1, 9: 1}              {3: 2}   \n",
      "9  {0: 1}  {5: 1, 2: 1}  {4: 1, 8: 1, 2: 1}        {3: 1, 5: 1}   \n",
      "\n",
      "                             0.50                            0.55  \\\n",
      "0                          {1: 1}  {5: 1, 8: 1, 1: 1, 6: 1, 9: 1}   \n",
      "1                          {4: 1}                          {4: 1}   \n",
      "2                    {4: 1, 1: 1}        {4: 1, 7: 2, 1: 1, 5: 1}   \n",
      "3              {0: 2, 7: 1, 1: 1}        {4: 1, 7: 1, 1: 1, 0: 1}   \n",
      "4                    {3: 2, 0: 1}                              {}   \n",
      "5        {6: 1, 4: 1, 3: 1, 8: 1}  {7: 1, 0: 1, 6: 2, 2: 2, 1: 1}   \n",
      "6                          {4: 1}        {2: 1, 9: 1, 0: 2, 7: 1}   \n",
      "7                          {1: 1}        {1: 3, 6: 1, 4: 1, 5: 1}   \n",
      "8  {2: 1, 6: 1, 7: 2, 1: 1, 4: 1}        {0: 2, 6: 1, 3: 1, 2: 1}   \n",
      "9                              {}                    {8: 1, 5: 1}   \n",
      "\n",
      "                             0.60                            0.65  \\\n",
      "0  {1: 1, 3: 1, 9: 1, 4: 1, 6: 1}        {1: 1, 9: 1, 2: 2, 3: 1}   \n",
      "1                    {7: 2, 2: 1}              {4: 1, 0: 1, 3: 1}   \n",
      "2              {4: 1, 8: 1, 5: 1}        {3: 1, 0: 2, 1: 1, 6: 1}   \n",
      "3              {8: 1, 4: 1, 2: 1}        {8: 1, 2: 1, 0: 2, 4: 1}   \n",
      "4              {1: 2, 6: 1, 3: 1}        {0: 1, 8: 1, 7: 1, 2: 1}   \n",
      "5        {0: 1, 1: 1, 8: 1, 9: 1}              {7: 1, 1: 1, 6: 1}   \n",
      "6              {1: 1, 3: 1, 9: 1}              {2: 4, 5: 1, 1: 1}   \n",
      "7              {1: 2, 5: 1, 8: 1}  {2: 1, 9: 1, 0: 1, 1: 1, 3: 1}   \n",
      "8  {3: 1, 9: 2, 6: 1, 1: 1, 0: 1}                          {3: 1}   \n",
      "9  {1: 1, 2: 2, 0: 2, 8: 1, 7: 1}        {2: 1, 3: 2, 0: 1, 1: 1}   \n",
      "\n",
      "                                   0.70  \n",
      "0  {4: 1, 1: 2, 6: 1, 7: 1, 8: 1, 2: 1}  \n",
      "1                          {6: 2, 3: 1}  \n",
      "2              {1: 3, 0: 1, 9: 1, 6: 1}  \n",
      "3                    {2: 1, 6: 2, 8: 1}  \n",
      "4              {1: 2, 7: 1, 8: 1, 5: 1}  \n",
      "5              {4: 2, 0: 1, 6: 1, 3: 1}  \n",
      "6        {0: 1, 1: 1, 2: 1, 5: 1, 8: 1}  \n",
      "7                    {2: 1, 9: 1, 5: 2}  \n",
      "8                          {4: 2, 1: 2}  \n",
      "9              {5: 1, 1: 1, 7: 1, 2: 1}  \n",
      "====================================================================================================\n"
     ]
    }
   ],
   "source": [
    "draw_assumption(predict(bw_numbers, lambda noised_number: k_means_for_bw(noised_number)))"
   ],
   "metadata": {
    "collapsed": false,
    "pycharm": {
     "name": "#%%\n"
    }
   }
  },
  {
   "cell_type": "markdown",
   "source": [
    "В целом логично все, вроде. У нас в обычных случаях \"точечные\" ошибки.\n",
    "Когда же мы скейлим, то они вносят свой \"плохой\" импакт для нормальных пикселей. Поэтому в итоге этот варик - шляпа."
   ],
   "metadata": {
    "collapsed": false
   }
  },
  {
   "cell_type": "code",
   "execution_count": 27,
   "outputs": [
    {
     "name": "stdout",
     "output_type": "stream",
     "text": [
      "Equals = False\n",
      "   0.30  0.35  0.40  0.45  0.50  0.55  0.60  0.65  0.70\n",
      "0    10    10    10    10    10    10    10    10    10\n",
      "1    10    10    10    10    10    10    10    10    10\n",
      "2    10    10    10    10    10    10    10    10    10\n",
      "3    10    10    10    10    10    10     9    10     9\n",
      "4    10    10    10    10    10    10    10    10    10\n",
      "5    10    10    10    10    10    10    10    10    10\n",
      "6    10    10    10    10    10    10    10    10     9\n",
      "7    10    10    10    10    10     9     9    10    10\n",
      "8    10    10    10    10    10    10    10    10    10\n",
      "9    10    10    10    10    10    10    10    10     9\n",
      "----------------------------------------------------------------------------------------------------\n",
      "  0.30 0.35 0.40 0.45 0.50    0.55    0.60 0.65    0.70\n",
      "0   {}   {}   {}   {}   {}      {}      {}   {}      {}\n",
      "1   {}   {}   {}   {}   {}      {}      {}   {}      {}\n",
      "2   {}   {}   {}   {}   {}      {}      {}   {}      {}\n",
      "3   {}   {}   {}   {}   {}      {}  {9: 1}   {}  {8: 1}\n",
      "4   {}   {}   {}   {}   {}      {}      {}   {}      {}\n",
      "5   {}   {}   {}   {}   {}      {}      {}   {}      {}\n",
      "6   {}   {}   {}   {}   {}      {}      {}   {}  {8: 1}\n",
      "7   {}   {}   {}   {}   {}  {2: 1}  {2: 1}   {}      {}\n",
      "8   {}   {}   {}   {}   {}      {}      {}   {}      {}\n",
      "9   {}   {}   {}   {}   {}      {}      {}   {}  {0: 1}\n",
      "====================================================================================================\n",
      "   0.30  0.35  0.40  0.45  0.50  0.55  0.60  0.65  0.70\n",
      "0    10    10    10    10    10    10    10    10    10\n",
      "1    10    10    10    10    10    10    10    10    10\n",
      "2    10    10    10    10    10    10    10    10    10\n",
      "3    10    10    10    10    10    10    10    10    10\n",
      "4    10    10    10    10    10    10    10    10    10\n",
      "5    10    10    10    10    10    10    10    10    10\n",
      "6    10    10    10    10    10    10    10    10    10\n",
      "7    10    10    10    10    10    10    10    10    10\n",
      "8    10    10    10    10    10    10    10    10    10\n",
      "9    10    10    10    10    10    10    10    10     9\n",
      "----------------------------------------------------------------------------------------------------\n",
      "  0.30 0.35 0.40 0.45 0.50 0.55 0.60 0.65    0.70\n",
      "0   {}   {}   {}   {}   {}   {}   {}   {}      {}\n",
      "1   {}   {}   {}   {}   {}   {}   {}   {}      {}\n",
      "2   {}   {}   {}   {}   {}   {}   {}   {}      {}\n",
      "3   {}   {}   {}   {}   {}   {}   {}   {}      {}\n",
      "4   {}   {}   {}   {}   {}   {}   {}   {}      {}\n",
      "5   {}   {}   {}   {}   {}   {}   {}   {}      {}\n",
      "6   {}   {}   {}   {}   {}   {}   {}   {}      {}\n",
      "7   {}   {}   {}   {}   {}   {}   {}   {}      {}\n",
      "8   {}   {}   {}   {}   {}   {}   {}   {}      {}\n",
      "9   {}   {}   {}   {}   {}   {}   {}   {}  {0: 1}\n",
      "====================================================================================================\n"
     ]
    }
   ],
   "source": [
    "rgb_numbers = generate_noise_numbers(7, 8, lambda image, noise: noise_image(image, noise), 10)\n",
    "rgb_numbers_scaled = []\n",
    "for n in rgb_numbers:\n",
    "    tmp2 = []\n",
    "    for number in n:\n",
    "        tmp1 = []\n",
    "        for image in number:\n",
    "            tmp1.append(upscale(image))\n",
    "        tmp2.append(tmp1)\n",
    "    rgb_numbers_scaled.append(tmp2)\n",
    "\n",
    "check_results(predict(rgb_numbers_scaled, lambda noised_number: k_means_scaled(noised_number)),\n",
    "              predict(rgb_numbers, lambda noised_number: k_means(noised_number)))"
   ],
   "metadata": {
    "collapsed": false,
    "pycharm": {
     "name": "#%%\n"
    }
   }
  },
  {
   "cell_type": "markdown",
   "source": [
    "#### Смотрим как схавает шум по области"
   ],
   "metadata": {
    "collapsed": false
   }
  },
  {
   "cell_type": "code",
   "execution_count": 28,
   "outputs": [
    {
     "name": "stdout",
     "output_type": "stream",
     "text": [
      "1 4 [3, 4, 5]\n"
     ]
    }
   ],
   "source": [
    "x_rand = random.randint(0, 7)\n",
    "y_rand = random.randint(0, 8)\n",
    "r_list = list(np.arange(3, 6, 1))\n",
    "print(x_rand, y_rand, r_list)\n",
    "\n",
    "rgb_numbers = []\n",
    "bw_numbers = []\n",
    "grey_numbers = []\n",
    "for r in r_list:\n",
    "    rgb_numbers.append(generate_noise_numbers(7, 8,\n",
    "                                              lambda image, noise: noise_area_image(image, (x_rand, y_rand), r, noise),\n",
    "                                              10))\n",
    "    bw_numbers.append(generate_noise_numbers(7, 8,\n",
    "                                             lambda image, noise: noise_bw_area_image(image, (x_rand, y_rand), r,\n",
    "                                                                                      noise), 10))\n",
    "    grey_numbers.append(generate_noise_numbers(7, 8,\n",
    "                                               lambda image, noise: noise_grey_area_image(image, (x_rand, y_rand), r,\n",
    "                                                                                          noise), 10))"
   ],
   "metadata": {
    "collapsed": false,
    "pycharm": {
     "name": "#%%\n"
    }
   }
  },
  {
   "cell_type": "code",
   "execution_count": 29,
   "outputs": [
    {
     "name": "stdout",
     "output_type": "stream",
     "text": [
      "[3, 4, 5]\n",
      "Equals = True\n",
      "   0.30  0.35  0.40  0.45  0.50  0.55  0.60  0.65  0.70\n",
      "0    10    10    10    10    10    10    10    10    10\n",
      "1    10    10    10    10    10    10    10    10    10\n",
      "2    10    10    10    10    10    10    10    10    10\n",
      "3    10    10    10    10    10    10    10    10    10\n",
      "4    10    10    10    10    10    10    10    10    10\n",
      "5    10    10    10    10    10    10    10    10    10\n",
      "6    10    10    10    10    10    10    10    10    10\n",
      "7    10    10    10    10    10    10    10    10    10\n",
      "8    10    10    10    10    10    10    10    10    10\n",
      "9    10    10    10    10    10    10    10    10    10\n",
      "Equals = False\n",
      "   0.30  0.35  0.40  0.45  0.50  0.55  0.60  0.65  0.70\n",
      "0    10    10    10    10    10    10    10    10    10\n",
      "1    10    10    10    10    10    10    10    10    10\n",
      "2    10    10    10    10    10    10    10    10    10\n",
      "3    10    10    10    10    10    10    10    10    10\n",
      "4    10    10    10    10    10    10    10    10    10\n",
      "5    10    10    10    10    10    10    10    10    10\n",
      "6    10    10    10    10    10    10    10    10    10\n",
      "7    10    10    10    10    10    10    10    10    10\n",
      "8    10    10    10    10    10    10    10    10    10\n",
      "9    10    10    10    10    10    10    10    10    10\n",
      "   0.30  0.35  0.40  0.45  0.50  0.55  0.60  0.65  0.70\n",
      "0    10    10    10    10    10    10    10    10    10\n",
      "1    10    10    10    10    10    10    10    10    10\n",
      "2    10    10    10    10    10    10    10    10    10\n",
      "3    10    10    10    10    10    10    10    10    10\n",
      "4    10    10    10    10    10    10    10    10    10\n",
      "5    10    10    10    10    10    10     9    10    10\n",
      "6    10    10    10    10    10     9    10    10    10\n",
      "7    10    10    10    10    10    10    10    10    10\n",
      "8    10    10    10    10    10    10    10    10    10\n",
      "9    10    10    10    10    10    10    10    10    10\n",
      "----------------------------------------------------------------------------------------------------\n",
      "  0.30 0.35 0.40 0.45 0.50    0.55    0.60 0.65 0.70\n",
      "0   {}   {}   {}   {}   {}      {}      {}   {}   {}\n",
      "1   {}   {}   {}   {}   {}      {}      {}   {}   {}\n",
      "2   {}   {}   {}   {}   {}      {}      {}   {}   {}\n",
      "3   {}   {}   {}   {}   {}      {}      {}   {}   {}\n",
      "4   {}   {}   {}   {}   {}      {}      {}   {}   {}\n",
      "5   {}   {}   {}   {}   {}      {}  {6: 1}   {}   {}\n",
      "6   {}   {}   {}   {}   {}  {5: 1}      {}   {}   {}\n",
      "7   {}   {}   {}   {}   {}      {}      {}   {}   {}\n",
      "8   {}   {}   {}   {}   {}      {}      {}   {}   {}\n",
      "9   {}   {}   {}   {}   {}      {}      {}   {}   {}\n",
      "====================================================================================================\n",
      "   0.30  0.35  0.40  0.45  0.50  0.55  0.60  0.65  0.70\n",
      "0    10    10    10    10    10    10    10    10    10\n",
      "1    10    10    10    10    10    10    10    10    10\n",
      "2    10    10    10    10    10    10    10    10     9\n",
      "3    10    10    10    10    10    10    10    10     9\n",
      "4    10    10    10    10    10    10    10    10    10\n",
      "5    10    10    10    10    10    10     9    10    10\n",
      "6    10    10    10    10    10    10    10    10     9\n",
      "7    10    10    10    10    10    10    10    10    10\n",
      "8    10    10    10     9     9    10    10    10     8\n",
      "9    10    10    10    10     9    10    10    10    10\n",
      "----------------------------------------------------------------------------------------------------\n",
      "  0.30 0.35 0.40    0.45    0.50 0.55    0.60 0.65          0.70\n",
      "0   {}   {}   {}      {}      {}   {}      {}   {}            {}\n",
      "1   {}   {}   {}      {}      {}   {}      {}   {}            {}\n",
      "2   {}   {}   {}      {}      {}   {}      {}   {}        {7: 1}\n",
      "3   {}   {}   {}      {}      {}   {}      {}   {}        {0: 1}\n",
      "4   {}   {}   {}      {}      {}   {}      {}   {}            {}\n",
      "5   {}   {}   {}      {}      {}   {}  {1: 1}   {}            {}\n",
      "6   {}   {}   {}      {}      {}   {}      {}   {}        {4: 1}\n",
      "7   {}   {}   {}      {}      {}   {}      {}   {}            {}\n",
      "8   {}   {}   {}  {3: 1}  {3: 1}   {}      {}   {}  {3: 1, 2: 1}\n",
      "9   {}   {}   {}      {}  {0: 1}   {}      {}   {}            {}\n",
      "====================================================================================================\n",
      "Equals = False\n",
      "   0.30  0.35  0.40  0.45  0.50  0.55  0.60  0.65  0.70\n",
      "0    10    10    10    10    10    10    10    10    10\n",
      "1    10    10    10    10    10    10    10    10    10\n",
      "2    10    10    10    10    10    10    10    10    10\n",
      "3    10    10    10    10    10    10    10    10    10\n",
      "4    10    10    10    10    10    10    10    10    10\n",
      "5    10    10    10    10    10    10    10    10    10\n",
      "6    10    10    10    10    10    10    10    10    10\n",
      "7    10    10    10    10    10    10    10    10    10\n",
      "8    10    10    10    10    10    10    10    10    10\n",
      "9    10    10    10    10    10    10    10    10    10\n",
      "   0.30  0.35  0.40  0.45  0.50  0.55  0.60  0.65  0.70\n",
      "0    10    10    10    10    10    10    10    10    10\n",
      "1    10    10    10    10    10    10    10    10    10\n",
      "2    10    10    10    10    10    10    10    10     9\n",
      "3    10    10    10    10    10    10    10    10     9\n",
      "4    10    10    10    10    10    10    10    10    10\n",
      "5    10    10    10    10    10    10    10    10     9\n",
      "6    10    10    10    10    10    10     9     9    10\n",
      "7    10    10    10    10    10    10    10    10     9\n",
      "8    10    10    10    10    10    10    10     9     9\n",
      "9    10    10    10    10    10    10    10     9     9\n",
      "----------------------------------------------------------------------------------------------------\n",
      "  0.30 0.35 0.40 0.45 0.50 0.55    0.60    0.65    0.70\n",
      "0   {}   {}   {}   {}   {}   {}      {}      {}      {}\n",
      "1   {}   {}   {}   {}   {}   {}      {}      {}      {}\n",
      "2   {}   {}   {}   {}   {}   {}      {}      {}  {4: 1}\n",
      "3   {}   {}   {}   {}   {}   {}      {}      {}  {2: 1}\n",
      "4   {}   {}   {}   {}   {}   {}      {}      {}      {}\n",
      "5   {}   {}   {}   {}   {}   {}      {}      {}  {8: 1}\n",
      "6   {}   {}   {}   {}   {}   {}  {0: 1}  {8: 1}      {}\n",
      "7   {}   {}   {}   {}   {}   {}      {}      {}  {5: 1}\n",
      "8   {}   {}   {}   {}   {}   {}      {}  {7: 1}  {6: 1}\n",
      "9   {}   {}   {}   {}   {}   {}      {}  {8: 1}  {3: 1}\n",
      "====================================================================================================\n",
      "   0.30  0.35  0.40  0.45  0.50  0.55  0.60  0.65  0.70\n",
      "0    10    10    10    10    10     9    10    10    10\n",
      "1    10    10    10    10    10    10    10     9    10\n",
      "2    10    10    10    10    10    10     9    10     8\n",
      "3    10    10    10    10    10    10    10    10    10\n",
      "4    10    10    10    10    10    10    10    10    10\n",
      "5    10    10    10    10    10    10    10     9     9\n",
      "6    10    10    10    10    10    10    10     8     9\n",
      "7    10    10    10    10    10    10    10    10     9\n",
      "8    10    10    10    10     9    10     8     7     7\n",
      "9    10     9     9    10    10    10     8     9     7\n",
      "----------------------------------------------------------------------------------------------------\n",
      "  0.30    0.35    0.40 0.45    0.50    0.55          0.60                0.65  \\\n",
      "0   {}      {}      {}   {}      {}  {9: 1}            {}                  {}   \n",
      "1   {}      {}      {}   {}      {}      {}            {}              {2: 1}   \n",
      "2   {}      {}      {}   {}      {}      {}        {7: 1}                  {}   \n",
      "3   {}      {}      {}   {}      {}      {}            {}                  {}   \n",
      "4   {}      {}      {}   {}      {}      {}            {}                  {}   \n",
      "5   {}      {}      {}   {}      {}      {}            {}              {0: 1}   \n",
      "6   {}      {}      {}   {}      {}      {}            {}        {2: 1, 0: 1}   \n",
      "7   {}      {}      {}   {}      {}      {}            {}                  {}   \n",
      "8   {}      {}      {}   {}  {0: 1}      {}  {1: 1, 3: 1}  {9: 1, 7: 1, 0: 1}   \n",
      "9   {}  {0: 1}  {3: 1}   {}      {}      {}        {0: 2}              {6: 1}   \n",
      "\n",
      "                 0.70  \n",
      "0                  {}  \n",
      "1                  {}  \n",
      "2        {1: 1, 3: 1}  \n",
      "3                  {}  \n",
      "4                  {}  \n",
      "5              {2: 1}  \n",
      "6              {5: 1}  \n",
      "7              {5: 1}  \n",
      "8        {0: 2, 2: 1}  \n",
      "9  {5: 1, 0: 1, 3: 1}  \n",
      "====================================================================================================\n"
     ]
    }
   ],
   "source": [
    "print(r_list)\n",
    "for number in rgb_numbers:\n",
    "    check_results(predict(number, lambda noised_number: k_means(noised_number)),\n",
    "                  predict(number, lambda noised_number: k_means_for_grey(noised_number)),\n",
    "                  predict(number, lambda noised_number: k_means_for_bw(noised_number)))"
   ],
   "metadata": {
    "collapsed": false,
    "pycharm": {
     "name": "#%%\n"
    }
   }
  },
  {
   "cell_type": "code",
   "execution_count": 30,
   "outputs": [
    {
     "name": "stdout",
     "output_type": "stream",
     "text": [
      "[3, 4, 5]\n",
      "Equals = False\n",
      "   0.30  0.35  0.40  0.45  0.50  0.55  0.60  0.65  0.70\n",
      "0    10    10    10    10    10    10    10    10    10\n",
      "1    10    10    10    10    10    10    10    10    10\n",
      "2    10    10    10    10    10    10    10    10    10\n",
      "3     9    10    10    10    10    10     9    10     8\n",
      "4    10    10    10    10    10    10    10    10    10\n",
      "5    10    10    10    10    10    10    10    10    10\n",
      "6    10    10    10    10    10    10    10    10    10\n",
      "7    10    10    10    10    10    10    10    10    10\n",
      "8    10    10    10    10    10    10    10    10    10\n",
      "9    10    10    10    10    10    10    10    10    10\n",
      "----------------------------------------------------------------------------------------------------\n",
      "     0.30 0.35 0.40 0.45 0.50 0.55    0.60 0.65    0.70\n",
      "0      {}   {}   {}   {}   {}   {}      {}   {}      {}\n",
      "1      {}   {}   {}   {}   {}   {}      {}   {}      {}\n",
      "2      {}   {}   {}   {}   {}   {}      {}   {}      {}\n",
      "3  {8: 1}   {}   {}   {}   {}   {}  {8: 1}   {}  {8: 2}\n",
      "4      {}   {}   {}   {}   {}   {}      {}   {}      {}\n",
      "5      {}   {}   {}   {}   {}   {}      {}   {}      {}\n",
      "6      {}   {}   {}   {}   {}   {}      {}   {}      {}\n",
      "7      {}   {}   {}   {}   {}   {}      {}   {}      {}\n",
      "8      {}   {}   {}   {}   {}   {}      {}   {}      {}\n",
      "9      {}   {}   {}   {}   {}   {}      {}   {}      {}\n",
      "====================================================================================================\n",
      "   0.30  0.35  0.40  0.45  0.50  0.55  0.60  0.65  0.70\n",
      "0    10    10    10    10    10    10    10    10    10\n",
      "1    10    10    10    10    10    10    10    10    10\n",
      "2    10    10    10    10    10    10    10    10    10\n",
      "3    10    10    10    10    10    10    10    10     9\n",
      "4    10    10    10    10    10    10    10    10    10\n",
      "5    10    10    10    10    10    10    10    10    10\n",
      "6    10    10    10    10    10    10    10    10    10\n",
      "7    10    10    10    10    10    10    10    10    10\n",
      "8    10    10    10    10    10    10    10    10    10\n",
      "9    10    10    10    10    10    10    10    10    10\n",
      "----------------------------------------------------------------------------------------------------\n",
      "  0.30 0.35 0.40 0.45 0.50 0.55 0.60 0.65    0.70\n",
      "0   {}   {}   {}   {}   {}   {}   {}   {}      {}\n",
      "1   {}   {}   {}   {}   {}   {}   {}   {}      {}\n",
      "2   {}   {}   {}   {}   {}   {}   {}   {}      {}\n",
      "3   {}   {}   {}   {}   {}   {}   {}   {}  {8: 1}\n",
      "4   {}   {}   {}   {}   {}   {}   {}   {}      {}\n",
      "5   {}   {}   {}   {}   {}   {}   {}   {}      {}\n",
      "6   {}   {}   {}   {}   {}   {}   {}   {}      {}\n",
      "7   {}   {}   {}   {}   {}   {}   {}   {}      {}\n",
      "8   {}   {}   {}   {}   {}   {}   {}   {}      {}\n",
      "9   {}   {}   {}   {}   {}   {}   {}   {}      {}\n",
      "====================================================================================================\n",
      "Equals = False\n",
      "   0.30  0.35  0.40  0.45  0.50  0.55  0.60  0.65  0.70\n",
      "0    10    10     9     9    10     7    10     8     9\n",
      "1    10    10    10    10    10    10    10    10    10\n",
      "2    10    10    10    10    10    10    10    10    10\n",
      "3    10     9    10    10    10    10    10    10     9\n",
      "4    10    10    10    10    10    10    10    10    10\n",
      "5    10    10    10    10    10    10    10    10    10\n",
      "6    10    10    10    10    10    10    10    10    10\n",
      "7    10    10    10    10    10     9    10    10     9\n",
      "8    10    10    10    10    10    10    10    10    10\n",
      "9    10    10    10    10    10    10    10    10    10\n",
      "----------------------------------------------------------------------------------------------------\n",
      "  0.30    0.35    0.40    0.45 0.50    0.55 0.60          0.65    0.70\n",
      "0   {}      {}  {8: 1}  {8: 1}   {}  {9: 3}   {}  {9: 1, 8: 1}  {9: 1}\n",
      "1   {}      {}      {}      {}   {}      {}   {}            {}      {}\n",
      "2   {}      {}      {}      {}   {}      {}   {}            {}      {}\n",
      "3   {}  {8: 1}      {}      {}   {}      {}   {}            {}  {5: 1}\n",
      "4   {}      {}      {}      {}   {}      {}   {}            {}      {}\n",
      "5   {}      {}      {}      {}   {}      {}   {}            {}      {}\n",
      "6   {}      {}      {}      {}   {}      {}   {}            {}      {}\n",
      "7   {}      {}      {}      {}   {}  {2: 1}   {}            {}  {2: 1}\n",
      "8   {}      {}      {}      {}   {}      {}   {}            {}      {}\n",
      "9   {}      {}      {}      {}   {}      {}   {}            {}      {}\n",
      "====================================================================================================\n",
      "   0.30  0.35  0.40  0.45  0.50  0.55  0.60  0.65  0.70\n",
      "0    10    10     9     9    10     6    10     9     9\n",
      "1    10    10    10    10    10    10    10    10    10\n",
      "2    10    10    10    10    10    10    10    10    10\n",
      "3    10    10    10    10    10    10    10    10    10\n",
      "4    10    10    10    10    10    10    10    10    10\n",
      "5    10    10    10    10     9    10    10    10    10\n",
      "6    10    10    10    10    10    10    10    10    10\n",
      "7    10    10    10    10    10     8    10    10     9\n",
      "8    10    10    10    10    10    10    10    10    10\n",
      "9    10    10    10    10    10    10     9    10    10\n",
      "----------------------------------------------------------------------------------------------------\n",
      "  0.30 0.35    0.40    0.45    0.50    0.55    0.60    0.65    0.70\n",
      "0   {}   {}  {8: 1}  {8: 1}      {}  {9: 4}      {}  {9: 1}  {9: 1}\n",
      "1   {}   {}      {}      {}      {}      {}      {}      {}      {}\n",
      "2   {}   {}      {}      {}      {}      {}      {}      {}      {}\n",
      "3   {}   {}      {}      {}      {}      {}      {}      {}      {}\n",
      "4   {}   {}      {}      {}      {}      {}      {}      {}      {}\n",
      "5   {}   {}      {}      {}  {1: 1}      {}      {}      {}      {}\n",
      "6   {}   {}      {}      {}      {}      {}      {}      {}      {}\n",
      "7   {}   {}      {}      {}      {}  {2: 2}      {}      {}  {2: 1}\n",
      "8   {}   {}      {}      {}      {}      {}      {}      {}      {}\n",
      "9   {}   {}      {}      {}      {}      {}  {8: 1}      {}      {}\n",
      "====================================================================================================\n",
      "Equals = False\n",
      "   0.30  0.35  0.40  0.45  0.50  0.55  0.60  0.65  0.70\n",
      "0    10     9    10    10     9     9     8     7     7\n",
      "1    10    10    10    10    10    10    10    10    10\n",
      "2    10    10    10    10    10    10    10     9    10\n",
      "3    10    10    10    10    10     8     9     8     8\n",
      "4    10    10    10    10    10    10     9    10     9\n",
      "5    10    10    10    10    10     9    10     9     8\n",
      "6    10    10    10    10    10    10    10    10     9\n",
      "7    10    10    10    10     9     9    10    10     8\n",
      "8    10    10    10    10    10    10    10    10    10\n",
      "9    10    10    10    10    10     9    10    10     9\n",
      "----------------------------------------------------------------------------------------------------\n",
      "  0.30    0.35 0.40 0.45    0.50    0.55          0.60          0.65  \\\n",
      "0   {}  {8: 1}   {}   {}  {8: 1}  {9: 1}  {9: 1, 6: 1}        {8: 3}   \n",
      "1   {}      {}   {}   {}      {}      {}            {}            {}   \n",
      "2   {}      {}   {}   {}      {}      {}            {}        {8: 1}   \n",
      "3   {}      {}   {}   {}      {}  {8: 2}        {8: 1}  {5: 1, 8: 1}   \n",
      "4   {}      {}   {}   {}      {}      {}        {8: 1}            {}   \n",
      "5   {}      {}   {}   {}      {}  {8: 1}            {}        {8: 1}   \n",
      "6   {}      {}   {}   {}      {}      {}            {}            {}   \n",
      "7   {}      {}   {}   {}  {2: 1}  {5: 1}            {}            {}   \n",
      "8   {}      {}   {}   {}      {}      {}            {}            {}   \n",
      "9   {}      {}   {}   {}      {}  {8: 1}            {}            {}   \n",
      "\n",
      "           0.70  \n",
      "0  {9: 2, 6: 1}  \n",
      "1            {}  \n",
      "2            {}  \n",
      "3        {5: 2}  \n",
      "4        {1: 1}  \n",
      "5        {6: 2}  \n",
      "6        {8: 1}  \n",
      "7  {9: 1, 2: 1}  \n",
      "8            {}  \n",
      "9        {8: 1}  \n",
      "====================================================================================================\n",
      "   0.30  0.35  0.40  0.45  0.50  0.55  0.60  0.65  0.70\n",
      "0    10    10    10    10     9     9     9     8     8\n",
      "1    10    10    10    10    10    10    10    10    10\n",
      "2    10    10    10    10    10    10    10     9    10\n",
      "3    10    10    10    10    10     9    10     9     9\n",
      "4    10    10    10    10    10    10    10    10     8\n",
      "5    10    10    10    10    10     9    10     9     8\n",
      "6    10    10    10    10    10    10    10    10     9\n",
      "7    10    10    10    10     9     9    10    10     8\n",
      "8    10    10    10    10    10    10    10    10    10\n",
      "9    10    10    10    10    10     9     9     9     9\n",
      "----------------------------------------------------------------------------------------------------\n",
      "  0.30 0.35 0.40 0.45    0.50    0.55    0.60    0.65          0.70\n",
      "0   {}   {}   {}   {}  {8: 1}  {9: 1}  {9: 1}  {8: 2}        {9: 2}\n",
      "1   {}   {}   {}   {}      {}      {}      {}      {}            {}\n",
      "2   {}   {}   {}   {}      {}      {}      {}  {8: 1}            {}\n",
      "3   {}   {}   {}   {}      {}  {8: 1}      {}  {5: 1}        {0: 1}\n",
      "4   {}   {}   {}   {}      {}      {}      {}      {}  {6: 1, 2: 1}\n",
      "5   {}   {}   {}   {}      {}  {8: 1}      {}  {8: 1}        {6: 2}\n",
      "6   {}   {}   {}   {}      {}      {}      {}      {}        {8: 1}\n",
      "7   {}   {}   {}   {}  {2: 1}  {5: 1}      {}      {}  {9: 1, 2: 1}\n",
      "8   {}   {}   {}   {}      {}      {}      {}      {}            {}\n",
      "9   {}   {}   {}   {}      {}  {8: 1}  {8: 1}  {8: 1}        {8: 1}\n",
      "====================================================================================================\n"
     ]
    }
   ],
   "source": [
    "print(r_list)\n",
    "for number in grey_numbers:\n",
    "    check_results(predict(number, lambda noised_number: k_means_for_grey(noised_number)),\n",
    "                  predict(number, lambda noised_number: k_means_for_bw(noised_number)))"
   ],
   "metadata": {
    "collapsed": false,
    "pycharm": {
     "name": "#%%\n"
    }
   }
  },
  {
   "cell_type": "code",
   "execution_count": 31,
   "outputs": [
    {
     "name": "stdout",
     "output_type": "stream",
     "text": [
      "[3, 4, 5]\n",
      "   0.30  0.35  0.40  0.45  0.50  0.55  0.60  0.65  0.70\n",
      "0    10    10    10    10    10    10    10    10    10\n",
      "1    10    10    10    10    10    10    10    10    10\n",
      "2    10    10    10    10    10    10    10    10    10\n",
      "3    10    10    10    10    10    10    10    10    10\n",
      "4    10    10    10    10    10    10    10    10    10\n",
      "5    10    10    10    10    10    10    10    10    10\n",
      "6    10    10    10    10    10    10    10    10    10\n",
      "7    10    10    10    10    10    10    10    10    10\n",
      "8    10    10    10    10    10    10    10    10    10\n",
      "9    10    10    10    10    10    10    10    10    10\n",
      "   0.30  0.35  0.40  0.45  0.50  0.55  0.60  0.65  0.70\n",
      "0    10    10     9    10    10    10     9    10    10\n",
      "1    10    10    10    10    10    10    10    10    10\n",
      "2    10    10    10    10    10    10    10    10    10\n",
      "3    10    10    10    10    10    10    10     8     7\n",
      "4    10    10    10    10    10    10    10    10    10\n",
      "5    10    10    10    10    10    10    10    10    10\n",
      "6    10    10    10    10    10    10    10    10    10\n",
      "7    10    10    10    10    10    10     9    10     8\n",
      "8    10    10    10    10    10    10    10    10    10\n",
      "9    10    10    10    10    10    10    10    10    10\n",
      "----------------------------------------------------------------------------------------------------\n",
      "  0.30 0.35    0.40 0.45 0.50 0.55    0.60    0.65          0.70\n",
      "0   {}   {}  {9: 1}   {}   {}   {}  {9: 1}      {}            {}\n",
      "1   {}   {}      {}   {}   {}   {}      {}      {}            {}\n",
      "2   {}   {}      {}   {}   {}   {}      {}      {}            {}\n",
      "3   {}   {}      {}   {}   {}   {}      {}  {8: 2}  {8: 2, 9: 1}\n",
      "4   {}   {}      {}   {}   {}   {}      {}      {}            {}\n",
      "5   {}   {}      {}   {}   {}   {}      {}      {}            {}\n",
      "6   {}   {}      {}   {}   {}   {}      {}      {}            {}\n",
      "7   {}   {}      {}   {}   {}   {}  {2: 1}      {}  {1: 1, 2: 1}\n",
      "8   {}   {}      {}   {}   {}   {}      {}      {}            {}\n",
      "9   {}   {}      {}   {}   {}   {}      {}      {}            {}\n",
      "====================================================================================================\n",
      "   0.30  0.35  0.40  0.45  0.50  0.55  0.60  0.65  0.70\n",
      "0    10    10    10    10     9     9     7    10     8\n",
      "1    10    10    10    10    10    10    10     9    10\n",
      "2    10    10    10    10    10    10     9     9    10\n",
      "3    10    10    10     9    10    10    10    10     9\n",
      "4    10    10    10    10    10    10    10    10     9\n",
      "5    10    10     9    10    10     9    10    10    10\n",
      "6    10    10    10    10    10    10    10    10     9\n",
      "7    10    10     9    10     9    10    10    10    10\n",
      "8    10    10    10    10    10    10    10    10    10\n",
      "9    10    10    10    10    10    10     8     9     9\n",
      "----------------------------------------------------------------------------------------------------\n",
      "  0.30 0.35    0.40    0.45    0.50    0.55          0.60    0.65  \\\n",
      "0   {}   {}      {}      {}  {9: 1}  {8: 1}  {8: 1, 9: 2}      {}   \n",
      "1   {}   {}      {}      {}      {}      {}            {}  {8: 1}   \n",
      "2   {}   {}      {}      {}      {}      {}        {1: 1}  {1: 1}   \n",
      "3   {}   {}      {}  {8: 1}      {}      {}            {}      {}   \n",
      "4   {}   {}      {}      {}      {}      {}            {}      {}   \n",
      "5   {}   {}  {8: 1}      {}      {}  {8: 1}            {}      {}   \n",
      "6   {}   {}      {}      {}      {}      {}            {}      {}   \n",
      "7   {}   {}  {2: 1}      {}  {2: 1}      {}            {}      {}   \n",
      "8   {}   {}      {}      {}      {}      {}            {}      {}   \n",
      "9   {}   {}      {}      {}      {}      {}        {8: 2}  {8: 1}   \n",
      "\n",
      "           0.70  \n",
      "0  {8: 1, 9: 1}  \n",
      "1            {}  \n",
      "2            {}  \n",
      "3        {8: 1}  \n",
      "4        {1: 1}  \n",
      "5            {}  \n",
      "6        {8: 1}  \n",
      "7            {}  \n",
      "8            {}  \n",
      "9        {8: 1}  \n",
      "====================================================================================================\n"
     ]
    }
   ],
   "source": [
    "print(r_list)\n",
    "for number in bw_numbers:\n",
    "    draw_assumption(predict(number, lambda noised_number: k_means_for_bw(noised_number)))"
   ],
   "metadata": {
    "collapsed": false,
    "pycharm": {
     "name": "#%%\n"
    }
   }
  },
  {
   "cell_type": "markdown",
   "source": [
    "### Предсказываем для чисел размером 55 на 78"
   ],
   "metadata": {
    "collapsed": false,
    "pycharm": {
     "name": "#%% md\n"
    }
   }
  },
  {
   "cell_type": "code",
   "execution_count": 32,
   "outputs": [],
   "source": [
    "rgb_numbers = generate_noise_numbers(55, 78, lambda image, noise: noise_image(image, noise), 1)\n",
    "bw_numbers = generate_noise_numbers(55, 78, lambda image, noise: noise_bw_image(image, noise), 1)\n",
    "grey_numbers = generate_noise_numbers(55, 78, lambda image, noise: noise_grey_image(image, noise), 1)"
   ],
   "metadata": {
    "collapsed": false,
    "pycharm": {
     "name": "#%%\n"
    }
   }
  },
  {
   "cell_type": "code",
   "execution_count": 33,
   "outputs": [
    {
     "name": "stdout",
     "output_type": "stream",
     "text": [
      "Equals = True\n",
      "   0.30  0.35  0.40  0.45  0.50  0.55  0.60  0.65  0.70\n",
      "0     1     1     1     1     1     1     1     1     1\n",
      "1     1     1     1     1     1     1     1     1     1\n",
      "2     1     1     1     1     1     1     1     1     1\n",
      "3     1     1     1     1     1     1     1     1     1\n",
      "4     1     1     1     1     1     1     1     1     1\n",
      "5     1     1     1     1     1     1     1     1     1\n",
      "6     1     1     1     1     1     1     1     1     1\n",
      "7     1     1     1     1     1     1     1     1     1\n",
      "8     1     1     1     1     1     1     1     1     1\n",
      "9     1     1     1     1     1     1     1     1     1\n"
     ]
    }
   ],
   "source": [
    "check_results(predict(rgb_numbers, lambda noised_number: k_means(noised_number)),\n",
    "              predict(rgb_numbers, lambda noised_number: k_means_for_grey(noised_number)),\n",
    "              predict(rgb_numbers, lambda noised_number: k_means_for_bw(noised_number)))"
   ],
   "metadata": {
    "collapsed": false,
    "pycharm": {
     "name": "#%%\n"
    }
   }
  },
  {
   "cell_type": "code",
   "execution_count": 34,
   "outputs": [
    {
     "name": "stdout",
     "output_type": "stream",
     "text": [
      "Equals = True\n",
      "   0.30  0.35  0.40  0.45  0.50  0.55  0.60  0.65  0.70\n",
      "0     1     1     1     1     1     1     1     1     1\n",
      "1     1     1     1     1     1     1     1     1     1\n",
      "2     1     1     1     1     1     1     1     1     1\n",
      "3     1     1     1     1     1     1     1     1     1\n",
      "4     1     1     1     1     1     1     1     1     1\n",
      "5     1     1     1     1     1     1     1     1     1\n",
      "6     1     1     1     1     1     1     1     1     1\n",
      "7     1     1     1     1     1     1     1     1     1\n",
      "8     1     1     1     1     1     1     1     1     1\n",
      "9     1     1     1     1     1     1     1     1     1\n"
     ]
    }
   ],
   "source": [
    "check_results(predict(grey_numbers, lambda noised_number: k_means_for_grey(noised_number)),\n",
    "              predict(grey_numbers, lambda noised_number: k_means_for_bw(noised_number)))"
   ],
   "metadata": {
    "collapsed": false,
    "pycharm": {
     "name": "#%%\n"
    }
   }
  },
  {
   "cell_type": "code",
   "execution_count": 35,
   "outputs": [
    {
     "name": "stdout",
     "output_type": "stream",
     "text": [
      "   0.30  0.35  0.40  0.45  0.50  0.55  0.60  0.65  0.70\n",
      "0     1     1     1     1     1     1     1     1     1\n",
      "1     1     1     1     1     1     1     0     1     1\n",
      "2     1     1     1     1     1     1     1     1     1\n",
      "3     1     1     1     1     1     1     1     1     1\n",
      "4     1     1     1     1     1     1     1     1     1\n",
      "5     1     1     1     1     1     1     1     1     0\n",
      "6     1     1     1     1     1     1     1     1     0\n",
      "7     1     1     1     1     1     1     1     1     0\n",
      "8     1     1     1     1     1     1     0     1     1\n",
      "9     1     1     1     1     0     0     1     1     0\n",
      "----------------------------------------------------------------------------------------------------\n",
      "  0.30 0.35 0.40 0.45    0.50    0.55    0.60 0.65    0.70\n",
      "0   {}   {}   {}   {}      {}      {}      {}   {}      {}\n",
      "1   {}   {}   {}   {}      {}      {}  {2: 1}   {}      {}\n",
      "2   {}   {}   {}   {}      {}      {}      {}   {}      {}\n",
      "3   {}   {}   {}   {}      {}      {}      {}   {}      {}\n",
      "4   {}   {}   {}   {}      {}      {}      {}   {}      {}\n",
      "5   {}   {}   {}   {}      {}      {}      {}   {}  {2: 1}\n",
      "6   {}   {}   {}   {}      {}      {}      {}   {}  {7: 1}\n",
      "7   {}   {}   {}   {}      {}      {}      {}   {}  {0: 1}\n",
      "8   {}   {}   {}   {}      {}      {}  {1: 1}   {}      {}\n",
      "9   {}   {}   {}   {}  {0: 1}  {3: 1}      {}   {}  {4: 1}\n",
      "====================================================================================================\n"
     ]
    }
   ],
   "source": [
    "draw_assumption(predict(bw_numbers, lambda noised_number: k_means_for_bw(noised_number)))"
   ],
   "metadata": {
    "collapsed": false,
    "pycharm": {
     "name": "#%%\n"
    }
   }
  },
  {
   "cell_type": "code",
   "execution_count": 36,
   "outputs": [
    {
     "name": "stdout",
     "output_type": "stream",
     "text": [
      "53 18\n"
     ]
    }
   ],
   "source": [
    "x_rand = random.randint(0, 55)\n",
    "y_rand = random.randint(0, 78)\n",
    "r_rand = 10\n",
    "print(x_rand, y_rand)\n",
    "\n",
    "rgb_numbers = generate_noise_numbers(7, 8,\n",
    "                                     lambda image, noise: noise_area_image(image, (x_rand, y_rand), r_rand, noise), 1)\n",
    "bw_numbers = generate_noise_numbers(7, 8,\n",
    "                                    lambda image, noise: noise_bw_area_image(image, (x_rand, y_rand), r_rand, noise),\n",
    "                                    1)\n",
    "grey_numbers = generate_noise_numbers(7, 8, lambda image, noise: noise_grey_area_image(image, (x_rand, y_rand), r_rand,\n",
    "                                                                                       noise), 1)"
   ],
   "metadata": {
    "collapsed": false,
    "pycharm": {
     "name": "#%%\n"
    }
   }
  },
  {
   "cell_type": "code",
   "execution_count": 37,
   "outputs": [
    {
     "name": "stdout",
     "output_type": "stream",
     "text": [
      "Equals = True\n",
      "   0.30  0.35  0.40  0.45  0.50  0.55  0.60  0.65  0.70\n",
      "0     1     1     1     1     1     1     1     1     1\n",
      "1     1     1     1     1     1     1     1     1     1\n",
      "2     1     1     1     1     1     1     1     1     1\n",
      "3     1     1     1     1     1     1     1     1     1\n",
      "4     1     1     1     1     1     1     1     1     1\n",
      "5     1     1     1     1     1     1     1     1     1\n",
      "6     1     1     1     1     1     1     1     1     1\n",
      "7     1     1     1     1     1     1     1     1     1\n",
      "8     1     1     1     1     1     1     1     1     1\n",
      "9     1     1     1     1     1     1     1     1     1\n"
     ]
    }
   ],
   "source": [
    "check_results(predict(rgb_numbers, lambda noised_number: k_means(noised_number)),\n",
    "              predict(rgb_numbers, lambda noised_number: k_means_for_grey(noised_number)),\n",
    "              predict(rgb_numbers, lambda noised_number: k_means_for_bw(noised_number)))"
   ],
   "metadata": {
    "collapsed": false,
    "pycharm": {
     "name": "#%%\n"
    }
   }
  },
  {
   "cell_type": "code",
   "execution_count": 38,
   "outputs": [
    {
     "name": "stdout",
     "output_type": "stream",
     "text": [
      "Equals = True\n",
      "   0.30  0.35  0.40  0.45  0.50  0.55  0.60  0.65  0.70\n",
      "0     1     1     1     1     1     1     1     1     1\n",
      "1     1     1     1     1     1     1     1     1     1\n",
      "2     1     1     1     1     1     1     1     1     1\n",
      "3     1     1     1     1     1     1     1     1     1\n",
      "4     1     1     1     1     1     1     1     1     1\n",
      "5     1     1     1     1     1     1     1     1     1\n",
      "6     1     1     1     1     1     1     1     1     1\n",
      "7     1     1     1     1     1     1     1     1     1\n",
      "8     1     1     1     1     1     1     1     1     1\n",
      "9     1     1     1     1     1     1     1     1     1\n"
     ]
    }
   ],
   "source": [
    "check_results(predict(grey_numbers, lambda noised_number: k_means_for_grey(noised_number)),\n",
    "              predict(grey_numbers, lambda noised_number: k_means_for_bw(noised_number)))"
   ],
   "metadata": {
    "collapsed": false,
    "pycharm": {
     "name": "#%%\n"
    }
   }
  },
  {
   "cell_type": "code",
   "execution_count": 39,
   "outputs": [
    {
     "name": "stdout",
     "output_type": "stream",
     "text": [
      "   0.30  0.35  0.40  0.45  0.50  0.55  0.60  0.65  0.70\n",
      "0     1     1     1     1     1     1     1     1     1\n",
      "1     1     1     1     1     1     1     1     1     1\n",
      "2     1     1     1     1     1     1     1     1     1\n",
      "3     1     1     1     1     1     1     1     1     1\n",
      "4     1     1     1     1     1     1     1     1     1\n",
      "5     1     1     1     1     1     1     1     1     1\n",
      "6     1     1     1     1     1     1     1     1     1\n",
      "7     1     1     1     1     1     1     1     1     1\n",
      "8     1     1     1     1     1     1     1     1     1\n",
      "9     1     1     1     1     1     1     1     1     1\n"
     ]
    }
   ],
   "source": [
    "draw_assumption(predict(bw_numbers, lambda noised_number: k_means_for_bw(noised_number)))"
   ],
   "metadata": {
    "collapsed": false,
    "pycharm": {
     "name": "#%%\n"
    }
   }
  },
  {
   "cell_type": "markdown",
   "source": [
    "## Пошумим!!!"
   ],
   "metadata": {
    "collapsed": false
   }
  },
  {
   "cell_type": "code",
   "execution_count": 40,
   "outputs": [],
   "source": [
    "def generate_noise(mode, size, color, probability, noise_func):\n",
    "    return noise_func(Image.new(mode, size, color), probability)"
   ],
   "metadata": {
    "collapsed": false,
    "pycharm": {
     "name": "#%%\n"
    }
   }
  },
  {
   "cell_type": "code",
   "execution_count": 41,
   "outputs": [
    {
     "name": "stdout",
     "output_type": "stream",
     "text": [
      "out: 55/90\n"
     ]
    }
   ],
   "source": [
    "img_list = []\n",
    "for l in range(10):\n",
    "    for i in indexes:\n",
    "        img_list.append(generate_noise(\"RGB\", (7, 8), 'white', i,\n",
    "                             lambda noised_image, probability: noise_image(noised_image, probability)))\n",
    "\n",
    "\n",
    "def distance(img1: Image, img2: Image):\n",
    "    if img2.size != img1.size:\n",
    "        return\n",
    "    width, height = img2.size\n",
    "    img1_pix = img1.load()\n",
    "    img2_pix = img2.load()\n",
    "    dist = 0\n",
    "\n",
    "    for x in range(width):\n",
    "            for y in range(height):\n",
    "                if img1_pix[x, y] != img2_pix[x, y]:\n",
    "                    rgb = 0\n",
    "                    for i in range(3):\n",
    "                        rgb += abs(img2_pix[x, y][i] - img1_pix[x, y][i])\n",
    "                    dist += (rgb / 3)\n",
    "    return dist\n",
    "\n",
    "def odin(images_list: list, bound = 4, number_of_occurrences = 1):\n",
    "    res = []\n",
    "    for number in images_list:\n",
    "        tmp_list = images_list.copy()\n",
    "        tmp_list.remove(number)\n",
    "        tmp_list.sort(key=lambda img: distance(number, img))\n",
    "        res.append(tmp_list[:bound])\n",
    "\n",
    "    t = []\n",
    "    for n in res:\n",
    "        for number in n:\n",
    "            t.append(number)\n",
    "\n",
    "\n",
    "    out = 0\n",
    "    for number in images_list:\n",
    "        # print(t.count(number))\n",
    "        if t.count(number) <= number_of_occurrences:\n",
    "            out +=1\n",
    "\n",
    "    return out\n",
    "\n",
    "\n",
    "\n",
    "print(f'out: {odin(img_list, 10, 2)}/{len(img_list)}')"
   ],
   "metadata": {
    "collapsed": false,
    "pycharm": {
     "name": "#%%\n"
    }
   }
  },
  {
   "cell_type": "code",
   "execution_count": 42,
   "outputs": [
    {
     "name": "stdout",
     "output_type": "stream",
     "text": [
      "7 7 1\n",
      "4 4 7\n",
      "6 6 6\n",
      "4 4 7\n",
      "4 4 7\n",
      "0 0 7\n",
      "1 1 1\n",
      "4 4 4\n",
      "4 4 1\n"
     ]
    }
   ],
   "source": [
    "for i in indexes:\n",
    "    img = generate_noise(\"1\", (7, 8), 'white', i,\n",
    "                         lambda noised_image, probability: noise_bw_image(noised_image, probability))\n",
    "    # img.show()\n",
    "    print(k_means_for_bw(img), k_means_for_grey(img), k_means(img))"
   ],
   "metadata": {
    "collapsed": false,
    "pycharm": {
     "name": "#%%\n"
    }
   }
  },
  {
   "cell_type": "code",
   "execution_count": 43,
   "outputs": [
    {
     "name": "stdout",
     "output_type": "stream",
     "text": [
      "2 2 2\n",
      "7 7 7\n",
      "7 7 1\n",
      "0 0 7\n",
      "4 4 4\n",
      "7 7 7\n",
      "7 7 7\n",
      "3 3 1\n",
      "7 7 7\n"
     ]
    }
   ],
   "source": [
    "for i in indexes:\n",
    "    img = generate_noise(\"L\", (7, 8), 'white', i,\n",
    "                         lambda noised_image, probability: noise_bw_image(noised_image, probability))\n",
    "    # img.show()\n",
    "    print(k_means_for_bw(img), k_means_for_grey(img), k_means(img))"
   ],
   "metadata": {
    "collapsed": false,
    "pycharm": {
     "name": "#%%\n"
    }
   }
  },
  {
   "cell_type": "code",
   "execution_count": 44,
   "outputs": [],
   "source": [
    "# img = Image.open('image0_1.jpg')\n",
    "# upscale(img).save('image0_2.jpg')"
   ],
   "metadata": {
    "collapsed": false,
    "pycharm": {
     "name": "#%%\n"
    }
   }
  }
 ],
 "metadata": {
  "kernelspec": {
   "display_name": "Python 3",
   "language": "python",
   "name": "python3"
  },
  "language_info": {
   "codemirror_mode": {
    "name": "ipython",
    "version": 2
   },
   "file_extension": ".py",
   "mimetype": "text/x-python",
   "name": "python",
   "nbconvert_exporter": "python",
   "pygments_lexer": "ipython2",
   "version": "2.7.6"
  }
 },
 "nbformat": 4,
 "nbformat_minor": 0
}